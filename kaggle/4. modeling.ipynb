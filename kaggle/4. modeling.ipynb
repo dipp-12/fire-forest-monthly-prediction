{
 "cells": [
  {
   "cell_type": "code",
   "execution_count": 1,
   "id": "2ae46135",
   "metadata": {
    "ExecuteTime": {
     "end_time": "2024-05-31T12:20:42.461475Z",
     "start_time": "2024-05-31T12:20:35.663961Z"
    },
    "collapsed": false,
    "execution": {
     "iopub.execute_input": "2024-10-25T06:05:50.442358Z",
     "iopub.status.busy": "2024-10-25T06:05:50.442019Z",
     "iopub.status.idle": "2024-10-25T06:06:02.995789Z",
     "shell.execute_reply": "2024-10-25T06:06:02.995008Z"
    },
    "jupyter": {
     "outputs_hidden": false
    },
    "papermill": {
     "duration": 12.564359,
     "end_time": "2024-10-25T06:06:02.998069",
     "exception": false,
     "start_time": "2024-10-25T06:05:50.433710",
     "status": "completed"
    },
    "tags": []
   },
   "outputs": [],
   "source": [
    "import pandas as pd\n",
    "import numpy as np\n",
    "from tqdm import tqdm\n",
    "import tensorflow as tf"
   ]
  },
  {
   "cell_type": "code",
   "execution_count": 2,
   "id": "954fa51e",
   "metadata": {
    "ExecuteTime": {
     "end_time": "2024-05-31T12:20:56.120864Z",
     "start_time": "2024-05-31T12:20:42.464806Z"
    },
    "collapsed": false,
    "execution": {
     "iopub.execute_input": "2024-10-25T06:06:03.012883Z",
     "iopub.status.busy": "2024-10-25T06:06:03.012355Z",
     "iopub.status.idle": "2024-10-25T06:06:27.722856Z",
     "shell.execute_reply": "2024-10-25T06:06:27.721853Z"
    },
    "jupyter": {
     "outputs_hidden": false
    },
    "papermill": {
     "duration": 24.720044,
     "end_time": "2024-10-25T06:06:27.724988",
     "exception": false,
     "start_time": "2024-10-25T06:06:03.004944",
     "status": "completed"
    },
    "tags": []
   },
   "outputs": [
    {
     "data": {
      "text/html": [
       "<div>\n",
       "<style scoped>\n",
       "    .dataframe tbody tr th:only-of-type {\n",
       "        vertical-align: middle;\n",
       "    }\n",
       "\n",
       "    .dataframe tbody tr th {\n",
       "        vertical-align: top;\n",
       "    }\n",
       "\n",
       "    .dataframe thead th {\n",
       "        text-align: right;\n",
       "    }\n",
       "</style>\n",
       "<table border=\"1\" class=\"dataframe\">\n",
       "  <thead>\n",
       "    <tr style=\"text-align: right;\">\n",
       "      <th></th>\n",
       "      <th>year</th>\n",
       "      <th>date</th>\n",
       "      <th>[110.65896827426326, -3.0318140839033854]</th>\n",
       "      <th>[110.66795142710446, -3.0318140839033854]</th>\n",
       "      <th>[110.64998512142206, -3.02283093106219]</th>\n",
       "      <th>[110.65896827426326, -3.02283093106219]</th>\n",
       "      <th>[110.66795142710446, -3.02283093106219]</th>\n",
       "      <th>[110.67693457994565, -3.02283093106219]</th>\n",
       "      <th>[110.68591773278685, -3.02283093106219]</th>\n",
       "      <th>[110.64100196858087, -3.013847778220995]</th>\n",
       "      <th>...</th>\n",
       "      <th>[109.62590569752581, 2.016717812848326]</th>\n",
       "      <th>[109.61692254468461, 2.025700965689521]</th>\n",
       "      <th>[109.62590569752581, 2.025700965689521]</th>\n",
       "      <th>[109.61692254468461, 2.0346841185307163]</th>\n",
       "      <th>[109.62590569752581, 2.0346841185307163]</th>\n",
       "      <th>[109.62590569752581, 2.0436672713719113]</th>\n",
       "      <th>[109.62590569752581, 2.0526504242131067]</th>\n",
       "      <th>[109.634888850367, 2.0526504242131067]</th>\n",
       "      <th>[109.634888850367, 2.0616335770543017]</th>\n",
       "      <th>[109.1048828327365, 2.070616729895497]</th>\n",
       "    </tr>\n",
       "  </thead>\n",
       "  <tbody>\n",
       "    <tr>\n",
       "      <th>0</th>\n",
       "      <td>2019</td>\n",
       "      <td>2019_01_01</td>\n",
       "      <td>307.06</td>\n",
       "      <td>307.06</td>\n",
       "      <td>304.88</td>\n",
       "      <td>307.06</td>\n",
       "      <td>307.06</td>\n",
       "      <td>307.06</td>\n",
       "      <td>307.06</td>\n",
       "      <td>304.88</td>\n",
       "      <td>...</td>\n",
       "      <td>303.44</td>\n",
       "      <td>303.44</td>\n",
       "      <td>303.44</td>\n",
       "      <td>303.44</td>\n",
       "      <td>303.44</td>\n",
       "      <td>303.44</td>\n",
       "      <td>303.980</td>\n",
       "      <td>303.980</td>\n",
       "      <td>303.980</td>\n",
       "      <td>302.48</td>\n",
       "    </tr>\n",
       "    <tr>\n",
       "      <th>1</th>\n",
       "      <td>2019</td>\n",
       "      <td>2019_02_01</td>\n",
       "      <td>308.28</td>\n",
       "      <td>308.28</td>\n",
       "      <td>306.64</td>\n",
       "      <td>308.28</td>\n",
       "      <td>308.28</td>\n",
       "      <td>308.28</td>\n",
       "      <td>308.28</td>\n",
       "      <td>306.64</td>\n",
       "      <td>...</td>\n",
       "      <td>297.28</td>\n",
       "      <td>297.28</td>\n",
       "      <td>297.28</td>\n",
       "      <td>297.28</td>\n",
       "      <td>297.28</td>\n",
       "      <td>297.28</td>\n",
       "      <td>303.980</td>\n",
       "      <td>303.980</td>\n",
       "      <td>303.980</td>\n",
       "      <td>302.96</td>\n",
       "    </tr>\n",
       "    <tr>\n",
       "      <th>2</th>\n",
       "      <td>2019</td>\n",
       "      <td>2019_03_01</td>\n",
       "      <td>307.98</td>\n",
       "      <td>307.98</td>\n",
       "      <td>306.94</td>\n",
       "      <td>307.98</td>\n",
       "      <td>307.98</td>\n",
       "      <td>307.98</td>\n",
       "      <td>307.98</td>\n",
       "      <td>306.94</td>\n",
       "      <td>...</td>\n",
       "      <td>306.88</td>\n",
       "      <td>306.88</td>\n",
       "      <td>306.88</td>\n",
       "      <td>306.88</td>\n",
       "      <td>306.88</td>\n",
       "      <td>306.88</td>\n",
       "      <td>303.980</td>\n",
       "      <td>303.980</td>\n",
       "      <td>303.980</td>\n",
       "      <td>305.38</td>\n",
       "    </tr>\n",
       "    <tr>\n",
       "      <th>3</th>\n",
       "      <td>2019</td>\n",
       "      <td>2019_04_01</td>\n",
       "      <td>308.26</td>\n",
       "      <td>308.26</td>\n",
       "      <td>306.78</td>\n",
       "      <td>308.26</td>\n",
       "      <td>308.26</td>\n",
       "      <td>308.26</td>\n",
       "      <td>308.26</td>\n",
       "      <td>306.78</td>\n",
       "      <td>...</td>\n",
       "      <td>304.98</td>\n",
       "      <td>304.98</td>\n",
       "      <td>304.98</td>\n",
       "      <td>304.98</td>\n",
       "      <td>304.98</td>\n",
       "      <td>304.98</td>\n",
       "      <td>303.600</td>\n",
       "      <td>303.600</td>\n",
       "      <td>303.600</td>\n",
       "      <td>307.60</td>\n",
       "    </tr>\n",
       "    <tr>\n",
       "      <th>4</th>\n",
       "      <td>2019</td>\n",
       "      <td>2019_05_01</td>\n",
       "      <td>308.22</td>\n",
       "      <td>308.22</td>\n",
       "      <td>306.42</td>\n",
       "      <td>308.22</td>\n",
       "      <td>308.22</td>\n",
       "      <td>308.22</td>\n",
       "      <td>308.22</td>\n",
       "      <td>306.42</td>\n",
       "      <td>...</td>\n",
       "      <td>308.76</td>\n",
       "      <td>308.76</td>\n",
       "      <td>308.76</td>\n",
       "      <td>308.76</td>\n",
       "      <td>308.76</td>\n",
       "      <td>308.76</td>\n",
       "      <td>303.908</td>\n",
       "      <td>303.908</td>\n",
       "      <td>303.908</td>\n",
       "      <td>305.00</td>\n",
       "    </tr>\n",
       "  </tbody>\n",
       "</table>\n",
       "<p>5 rows × 147697 columns</p>\n",
       "</div>"
      ],
      "text/plain": [
       "   year        date  [110.65896827426326, -3.0318140839033854]  \\\n",
       "0  2019  2019_01_01                                     307.06   \n",
       "1  2019  2019_02_01                                     308.28   \n",
       "2  2019  2019_03_01                                     307.98   \n",
       "3  2019  2019_04_01                                     308.26   \n",
       "4  2019  2019_05_01                                     308.22   \n",
       "\n",
       "   [110.66795142710446, -3.0318140839033854]  \\\n",
       "0                                     307.06   \n",
       "1                                     308.28   \n",
       "2                                     307.98   \n",
       "3                                     308.26   \n",
       "4                                     308.22   \n",
       "\n",
       "   [110.64998512142206, -3.02283093106219]  \\\n",
       "0                                   304.88   \n",
       "1                                   306.64   \n",
       "2                                   306.94   \n",
       "3                                   306.78   \n",
       "4                                   306.42   \n",
       "\n",
       "   [110.65896827426326, -3.02283093106219]  \\\n",
       "0                                   307.06   \n",
       "1                                   308.28   \n",
       "2                                   307.98   \n",
       "3                                   308.26   \n",
       "4                                   308.22   \n",
       "\n",
       "   [110.66795142710446, -3.02283093106219]  \\\n",
       "0                                   307.06   \n",
       "1                                   308.28   \n",
       "2                                   307.98   \n",
       "3                                   308.26   \n",
       "4                                   308.22   \n",
       "\n",
       "   [110.67693457994565, -3.02283093106219]  \\\n",
       "0                                   307.06   \n",
       "1                                   308.28   \n",
       "2                                   307.98   \n",
       "3                                   308.26   \n",
       "4                                   308.22   \n",
       "\n",
       "   [110.68591773278685, -3.02283093106219]  \\\n",
       "0                                   307.06   \n",
       "1                                   308.28   \n",
       "2                                   307.98   \n",
       "3                                   308.26   \n",
       "4                                   308.22   \n",
       "\n",
       "   [110.64100196858087, -3.013847778220995]  ...  \\\n",
       "0                                    304.88  ...   \n",
       "1                                    306.64  ...   \n",
       "2                                    306.94  ...   \n",
       "3                                    306.78  ...   \n",
       "4                                    306.42  ...   \n",
       "\n",
       "   [109.62590569752581, 2.016717812848326]  \\\n",
       "0                                   303.44   \n",
       "1                                   297.28   \n",
       "2                                   306.88   \n",
       "3                                   304.98   \n",
       "4                                   308.76   \n",
       "\n",
       "   [109.61692254468461, 2.025700965689521]  \\\n",
       "0                                   303.44   \n",
       "1                                   297.28   \n",
       "2                                   306.88   \n",
       "3                                   304.98   \n",
       "4                                   308.76   \n",
       "\n",
       "   [109.62590569752581, 2.025700965689521]  \\\n",
       "0                                   303.44   \n",
       "1                                   297.28   \n",
       "2                                   306.88   \n",
       "3                                   304.98   \n",
       "4                                   308.76   \n",
       "\n",
       "   [109.61692254468461, 2.0346841185307163]  \\\n",
       "0                                    303.44   \n",
       "1                                    297.28   \n",
       "2                                    306.88   \n",
       "3                                    304.98   \n",
       "4                                    308.76   \n",
       "\n",
       "   [109.62590569752581, 2.0346841185307163]  \\\n",
       "0                                    303.44   \n",
       "1                                    297.28   \n",
       "2                                    306.88   \n",
       "3                                    304.98   \n",
       "4                                    308.76   \n",
       "\n",
       "   [109.62590569752581, 2.0436672713719113]  \\\n",
       "0                                    303.44   \n",
       "1                                    297.28   \n",
       "2                                    306.88   \n",
       "3                                    304.98   \n",
       "4                                    308.76   \n",
       "\n",
       "   [109.62590569752581, 2.0526504242131067]  \\\n",
       "0                                   303.980   \n",
       "1                                   303.980   \n",
       "2                                   303.980   \n",
       "3                                   303.600   \n",
       "4                                   303.908   \n",
       "\n",
       "   [109.634888850367, 2.0526504242131067]  \\\n",
       "0                                 303.980   \n",
       "1                                 303.980   \n",
       "2                                 303.980   \n",
       "3                                 303.600   \n",
       "4                                 303.908   \n",
       "\n",
       "   [109.634888850367, 2.0616335770543017]  \\\n",
       "0                                 303.980   \n",
       "1                                 303.980   \n",
       "2                                 303.980   \n",
       "3                                 303.600   \n",
       "4                                 303.908   \n",
       "\n",
       "   [109.1048828327365, 2.070616729895497]  \n",
       "0                                  302.48  \n",
       "1                                  302.96  \n",
       "2                                  305.38  \n",
       "3                                  307.60  \n",
       "4                                  305.00  \n",
       "\n",
       "[5 rows x 147697 columns]"
      ]
     },
     "execution_count": 2,
     "metadata": {},
     "output_type": "execute_result"
    }
   ],
   "source": [
    "df = pd.read_csv('/kaggle/input/west-kalimantan-mod21c3/data/training_validation_mod21c3.csv')\n",
    "df.head()"
   ]
  },
  {
   "cell_type": "code",
   "execution_count": 3,
   "id": "6251accf",
   "metadata": {
    "ExecuteTime": {
     "end_time": "2024-05-31T12:20:56.198081Z",
     "start_time": "2024-05-31T12:20:56.122864Z"
    },
    "collapsed": false,
    "execution": {
     "iopub.execute_input": "2024-10-25T06:06:27.741352Z",
     "iopub.status.busy": "2024-10-25T06:06:27.741003Z",
     "iopub.status.idle": "2024-10-25T06:06:27.789661Z",
     "shell.execute_reply": "2024-10-25T06:06:27.788814Z"
    },
    "jupyter": {
     "outputs_hidden": false
    },
    "papermill": {
     "duration": 0.059739,
     "end_time": "2024-10-25T06:06:27.791947",
     "exception": false,
     "start_time": "2024-10-25T06:06:27.732208",
     "status": "completed"
    },
    "tags": []
   },
   "outputs": [],
   "source": [
    "df = df.drop(columns=['year', 'date'])"
   ]
  },
  {
   "cell_type": "code",
   "execution_count": 4,
   "id": "29550a5d",
   "metadata": {
    "ExecuteTime": {
     "end_time": "2024-05-31T12:20:56.244876Z",
     "start_time": "2024-05-31T12:20:56.200082Z"
    },
    "collapsed": false,
    "execution": {
     "iopub.execute_input": "2024-10-25T06:06:27.807392Z",
     "iopub.status.busy": "2024-10-25T06:06:27.807073Z",
     "iopub.status.idle": "2024-10-25T06:06:27.859418Z",
     "shell.execute_reply": "2024-10-25T06:06:27.858486Z"
    },
    "jupyter": {
     "outputs_hidden": false
    },
    "papermill": {
     "duration": 0.062345,
     "end_time": "2024-10-25T06:06:27.861502",
     "exception": false,
     "start_time": "2024-10-25T06:06:27.799157",
     "status": "completed"
    },
    "tags": []
   },
   "outputs": [
    {
     "data": {
      "text/html": [
       "<div>\n",
       "<style scoped>\n",
       "    .dataframe tbody tr th:only-of-type {\n",
       "        vertical-align: middle;\n",
       "    }\n",
       "\n",
       "    .dataframe tbody tr th {\n",
       "        vertical-align: top;\n",
       "    }\n",
       "\n",
       "    .dataframe thead th {\n",
       "        text-align: right;\n",
       "    }\n",
       "</style>\n",
       "<table border=\"1\" class=\"dataframe\">\n",
       "  <thead>\n",
       "    <tr style=\"text-align: right;\">\n",
       "      <th></th>\n",
       "      <th>[110.65896827426326, -3.0318140839033854]</th>\n",
       "      <th>[110.66795142710446, -3.0318140839033854]</th>\n",
       "      <th>[110.64998512142206, -3.02283093106219]</th>\n",
       "      <th>[110.65896827426326, -3.02283093106219]</th>\n",
       "      <th>[110.66795142710446, -3.02283093106219]</th>\n",
       "      <th>[110.67693457994565, -3.02283093106219]</th>\n",
       "      <th>[110.68591773278685, -3.02283093106219]</th>\n",
       "      <th>[110.64100196858087, -3.013847778220995]</th>\n",
       "      <th>[110.64998512142206, -3.013847778220995]</th>\n",
       "      <th>[110.65896827426326, -3.013847778220995]</th>\n",
       "      <th>...</th>\n",
       "      <th>[109.62590569752581, 2.016717812848326]</th>\n",
       "      <th>[109.61692254468461, 2.025700965689521]</th>\n",
       "      <th>[109.62590569752581, 2.025700965689521]</th>\n",
       "      <th>[109.61692254468461, 2.0346841185307163]</th>\n",
       "      <th>[109.62590569752581, 2.0346841185307163]</th>\n",
       "      <th>[109.62590569752581, 2.0436672713719113]</th>\n",
       "      <th>[109.62590569752581, 2.0526504242131067]</th>\n",
       "      <th>[109.634888850367, 2.0526504242131067]</th>\n",
       "      <th>[109.634888850367, 2.0616335770543017]</th>\n",
       "      <th>[109.1048828327365, 2.070616729895497]</th>\n",
       "    </tr>\n",
       "  </thead>\n",
       "  <tbody>\n",
       "    <tr>\n",
       "      <th>0</th>\n",
       "      <td>307.06</td>\n",
       "      <td>307.06</td>\n",
       "      <td>304.88</td>\n",
       "      <td>307.06</td>\n",
       "      <td>307.06</td>\n",
       "      <td>307.06</td>\n",
       "      <td>307.06</td>\n",
       "      <td>304.88</td>\n",
       "      <td>304.88</td>\n",
       "      <td>307.06</td>\n",
       "      <td>...</td>\n",
       "      <td>303.44</td>\n",
       "      <td>303.44</td>\n",
       "      <td>303.44</td>\n",
       "      <td>303.44</td>\n",
       "      <td>303.44</td>\n",
       "      <td>303.44</td>\n",
       "      <td>303.980</td>\n",
       "      <td>303.980</td>\n",
       "      <td>303.980</td>\n",
       "      <td>302.48</td>\n",
       "    </tr>\n",
       "    <tr>\n",
       "      <th>1</th>\n",
       "      <td>308.28</td>\n",
       "      <td>308.28</td>\n",
       "      <td>306.64</td>\n",
       "      <td>308.28</td>\n",
       "      <td>308.28</td>\n",
       "      <td>308.28</td>\n",
       "      <td>308.28</td>\n",
       "      <td>306.64</td>\n",
       "      <td>306.64</td>\n",
       "      <td>308.28</td>\n",
       "      <td>...</td>\n",
       "      <td>297.28</td>\n",
       "      <td>297.28</td>\n",
       "      <td>297.28</td>\n",
       "      <td>297.28</td>\n",
       "      <td>297.28</td>\n",
       "      <td>297.28</td>\n",
       "      <td>303.980</td>\n",
       "      <td>303.980</td>\n",
       "      <td>303.980</td>\n",
       "      <td>302.96</td>\n",
       "    </tr>\n",
       "    <tr>\n",
       "      <th>2</th>\n",
       "      <td>307.98</td>\n",
       "      <td>307.98</td>\n",
       "      <td>306.94</td>\n",
       "      <td>307.98</td>\n",
       "      <td>307.98</td>\n",
       "      <td>307.98</td>\n",
       "      <td>307.98</td>\n",
       "      <td>306.94</td>\n",
       "      <td>306.94</td>\n",
       "      <td>307.98</td>\n",
       "      <td>...</td>\n",
       "      <td>306.88</td>\n",
       "      <td>306.88</td>\n",
       "      <td>306.88</td>\n",
       "      <td>306.88</td>\n",
       "      <td>306.88</td>\n",
       "      <td>306.88</td>\n",
       "      <td>303.980</td>\n",
       "      <td>303.980</td>\n",
       "      <td>303.980</td>\n",
       "      <td>305.38</td>\n",
       "    </tr>\n",
       "    <tr>\n",
       "      <th>3</th>\n",
       "      <td>308.26</td>\n",
       "      <td>308.26</td>\n",
       "      <td>306.78</td>\n",
       "      <td>308.26</td>\n",
       "      <td>308.26</td>\n",
       "      <td>308.26</td>\n",
       "      <td>308.26</td>\n",
       "      <td>306.78</td>\n",
       "      <td>306.78</td>\n",
       "      <td>308.26</td>\n",
       "      <td>...</td>\n",
       "      <td>304.98</td>\n",
       "      <td>304.98</td>\n",
       "      <td>304.98</td>\n",
       "      <td>304.98</td>\n",
       "      <td>304.98</td>\n",
       "      <td>304.98</td>\n",
       "      <td>303.600</td>\n",
       "      <td>303.600</td>\n",
       "      <td>303.600</td>\n",
       "      <td>307.60</td>\n",
       "    </tr>\n",
       "    <tr>\n",
       "      <th>4</th>\n",
       "      <td>308.22</td>\n",
       "      <td>308.22</td>\n",
       "      <td>306.42</td>\n",
       "      <td>308.22</td>\n",
       "      <td>308.22</td>\n",
       "      <td>308.22</td>\n",
       "      <td>308.22</td>\n",
       "      <td>306.42</td>\n",
       "      <td>306.42</td>\n",
       "      <td>308.22</td>\n",
       "      <td>...</td>\n",
       "      <td>308.76</td>\n",
       "      <td>308.76</td>\n",
       "      <td>308.76</td>\n",
       "      <td>308.76</td>\n",
       "      <td>308.76</td>\n",
       "      <td>308.76</td>\n",
       "      <td>303.908</td>\n",
       "      <td>303.908</td>\n",
       "      <td>303.908</td>\n",
       "      <td>305.00</td>\n",
       "    </tr>\n",
       "  </tbody>\n",
       "</table>\n",
       "<p>5 rows × 147695 columns</p>\n",
       "</div>"
      ],
      "text/plain": [
       "   [110.65896827426326, -3.0318140839033854]  \\\n",
       "0                                     307.06   \n",
       "1                                     308.28   \n",
       "2                                     307.98   \n",
       "3                                     308.26   \n",
       "4                                     308.22   \n",
       "\n",
       "   [110.66795142710446, -3.0318140839033854]  \\\n",
       "0                                     307.06   \n",
       "1                                     308.28   \n",
       "2                                     307.98   \n",
       "3                                     308.26   \n",
       "4                                     308.22   \n",
       "\n",
       "   [110.64998512142206, -3.02283093106219]  \\\n",
       "0                                   304.88   \n",
       "1                                   306.64   \n",
       "2                                   306.94   \n",
       "3                                   306.78   \n",
       "4                                   306.42   \n",
       "\n",
       "   [110.65896827426326, -3.02283093106219]  \\\n",
       "0                                   307.06   \n",
       "1                                   308.28   \n",
       "2                                   307.98   \n",
       "3                                   308.26   \n",
       "4                                   308.22   \n",
       "\n",
       "   [110.66795142710446, -3.02283093106219]  \\\n",
       "0                                   307.06   \n",
       "1                                   308.28   \n",
       "2                                   307.98   \n",
       "3                                   308.26   \n",
       "4                                   308.22   \n",
       "\n",
       "   [110.67693457994565, -3.02283093106219]  \\\n",
       "0                                   307.06   \n",
       "1                                   308.28   \n",
       "2                                   307.98   \n",
       "3                                   308.26   \n",
       "4                                   308.22   \n",
       "\n",
       "   [110.68591773278685, -3.02283093106219]  \\\n",
       "0                                   307.06   \n",
       "1                                   308.28   \n",
       "2                                   307.98   \n",
       "3                                   308.26   \n",
       "4                                   308.22   \n",
       "\n",
       "   [110.64100196858087, -3.013847778220995]  \\\n",
       "0                                    304.88   \n",
       "1                                    306.64   \n",
       "2                                    306.94   \n",
       "3                                    306.78   \n",
       "4                                    306.42   \n",
       "\n",
       "   [110.64998512142206, -3.013847778220995]  \\\n",
       "0                                    304.88   \n",
       "1                                    306.64   \n",
       "2                                    306.94   \n",
       "3                                    306.78   \n",
       "4                                    306.42   \n",
       "\n",
       "   [110.65896827426326, -3.013847778220995]  ...  \\\n",
       "0                                    307.06  ...   \n",
       "1                                    308.28  ...   \n",
       "2                                    307.98  ...   \n",
       "3                                    308.26  ...   \n",
       "4                                    308.22  ...   \n",
       "\n",
       "   [109.62590569752581, 2.016717812848326]  \\\n",
       "0                                   303.44   \n",
       "1                                   297.28   \n",
       "2                                   306.88   \n",
       "3                                   304.98   \n",
       "4                                   308.76   \n",
       "\n",
       "   [109.61692254468461, 2.025700965689521]  \\\n",
       "0                                   303.44   \n",
       "1                                   297.28   \n",
       "2                                   306.88   \n",
       "3                                   304.98   \n",
       "4                                   308.76   \n",
       "\n",
       "   [109.62590569752581, 2.025700965689521]  \\\n",
       "0                                   303.44   \n",
       "1                                   297.28   \n",
       "2                                   306.88   \n",
       "3                                   304.98   \n",
       "4                                   308.76   \n",
       "\n",
       "   [109.61692254468461, 2.0346841185307163]  \\\n",
       "0                                    303.44   \n",
       "1                                    297.28   \n",
       "2                                    306.88   \n",
       "3                                    304.98   \n",
       "4                                    308.76   \n",
       "\n",
       "   [109.62590569752581, 2.0346841185307163]  \\\n",
       "0                                    303.44   \n",
       "1                                    297.28   \n",
       "2                                    306.88   \n",
       "3                                    304.98   \n",
       "4                                    308.76   \n",
       "\n",
       "   [109.62590569752581, 2.0436672713719113]  \\\n",
       "0                                    303.44   \n",
       "1                                    297.28   \n",
       "2                                    306.88   \n",
       "3                                    304.98   \n",
       "4                                    308.76   \n",
       "\n",
       "   [109.62590569752581, 2.0526504242131067]  \\\n",
       "0                                   303.980   \n",
       "1                                   303.980   \n",
       "2                                   303.980   \n",
       "3                                   303.600   \n",
       "4                                   303.908   \n",
       "\n",
       "   [109.634888850367, 2.0526504242131067]  \\\n",
       "0                                 303.980   \n",
       "1                                 303.980   \n",
       "2                                 303.980   \n",
       "3                                 303.600   \n",
       "4                                 303.908   \n",
       "\n",
       "   [109.634888850367, 2.0616335770543017]  \\\n",
       "0                                 303.980   \n",
       "1                                 303.980   \n",
       "2                                 303.980   \n",
       "3                                 303.600   \n",
       "4                                 303.908   \n",
       "\n",
       "   [109.1048828327365, 2.070616729895497]  \n",
       "0                                  302.48  \n",
       "1                                  302.96  \n",
       "2                                  305.38  \n",
       "3                                  307.60  \n",
       "4                                  305.00  \n",
       "\n",
       "[5 rows x 147695 columns]"
      ]
     },
     "execution_count": 4,
     "metadata": {},
     "output_type": "execute_result"
    }
   ],
   "source": [
    "df.head()"
   ]
  },
  {
   "cell_type": "markdown",
   "id": "469bb593",
   "metadata": {
    "papermill": {
     "duration": 0.007346,
     "end_time": "2024-10-25T06:06:27.876657",
     "exception": false,
     "start_time": "2024-10-25T06:06:27.869311",
     "status": "completed"
    },
    "tags": []
   },
   "source": [
    "# Data Splitting"
   ]
  },
  {
   "cell_type": "code",
   "execution_count": 5,
   "id": "ec280ba3",
   "metadata": {
    "ExecuteTime": {
     "end_time": "2024-05-31T12:20:56.261044Z",
     "start_time": "2024-05-31T12:20:56.246074Z"
    },
    "collapsed": false,
    "execution": {
     "iopub.execute_input": "2024-10-25T06:06:27.892880Z",
     "iopub.status.busy": "2024-10-25T06:06:27.892566Z",
     "iopub.status.idle": "2024-10-25T06:06:27.897342Z",
     "shell.execute_reply": "2024-10-25T06:06:27.896450Z"
    },
    "jupyter": {
     "outputs_hidden": false
    },
    "papermill": {
     "duration": 0.015178,
     "end_time": "2024-10-25T06:06:27.899278",
     "exception": false,
     "start_time": "2024-10-25T06:06:27.884100",
     "status": "completed"
    },
    "tags": []
   },
   "outputs": [],
   "source": [
    "# Set the split ratio\n",
    "split_ratio = 0.9\n",
    "split_point = int(len(df) * split_ratio)\n",
    "\n",
    "# Split the data\n",
    "train_df = df.iloc[:split_point]\n",
    "validation_df = df.iloc[split_point:]"
   ]
  },
  {
   "cell_type": "code",
   "execution_count": 6,
   "id": "cdbb5fba",
   "metadata": {
    "ExecuteTime": {
     "end_time": "2024-05-31T12:20:56.276500Z",
     "start_time": "2024-05-31T12:20:56.265233Z"
    },
    "collapsed": false,
    "execution": {
     "iopub.execute_input": "2024-10-25T06:06:27.915632Z",
     "iopub.status.busy": "2024-10-25T06:06:27.915315Z",
     "iopub.status.idle": "2024-10-25T06:06:27.921669Z",
     "shell.execute_reply": "2024-10-25T06:06:27.920786Z"
    },
    "jupyter": {
     "outputs_hidden": false
    },
    "papermill": {
     "duration": 0.016882,
     "end_time": "2024-10-25T06:06:27.923539",
     "exception": false,
     "start_time": "2024-10-25T06:06:27.906657",
     "status": "completed"
    },
    "tags": []
   },
   "outputs": [],
   "source": [
    "# Sliding Window\n",
    "def create_window(dataframe, window_size, slide_size):\n",
    "    input_window_list = []\n",
    "    label_window_list = []\n",
    "    # Iterate over the columns\n",
    "    for col in tqdm(dataframe.columns):\n",
    "        # Iterate over the rows in the current column with a sliding window\n",
    "        for row in range(0, len(dataframe[col]) - (window_size + slide_size) + 1):\n",
    "            window_range = row + window_size\n",
    "            \n",
    "            input_window = dataframe[col].iloc[row:window_range]\n",
    "            input_window_list.append(input_window)\n",
    "            \n",
    "            label_window = dataframe[col].iloc[window_range:window_range + slide_size]\n",
    "            label_window_list.append(label_window)\n",
    "    return input_window_list, label_window_list"
   ]
  },
  {
   "cell_type": "code",
   "execution_count": 7,
   "id": "1a326fd3",
   "metadata": {
    "ExecuteTime": {
     "end_time": "2024-05-31T12:37:29.851294Z",
     "start_time": "2024-05-31T12:20:56.277665Z"
    },
    "collapsed": false,
    "execution": {
     "iopub.execute_input": "2024-10-25T06:06:27.939577Z",
     "iopub.status.busy": "2024-10-25T06:06:27.939299Z",
     "iopub.status.idle": "2024-10-25T06:16:07.293301Z",
     "shell.execute_reply": "2024-10-25T06:16:07.292309Z"
    },
    "jupyter": {
     "outputs_hidden": false
    },
    "papermill": {
     "duration": 579.364239,
     "end_time": "2024-10-25T06:16:07.295329",
     "exception": false,
     "start_time": "2024-10-25T06:06:27.931090",
     "status": "completed"
    },
    "tags": []
   },
   "outputs": [
    {
     "name": "stderr",
     "output_type": "stream",
     "text": [
      "100%|██████████| 147695/147695 [09:14<00:00, 266.30it/s]\n",
      "100%|██████████| 147695/147695 [00:24<00:00, 5974.52it/s]\n"
     ]
    }
   ],
   "source": [
    "window_size = 3\n",
    "slide_size = 1\n",
    "\n",
    "train_input_window, train_label_window = create_window(train_df, window_size, slide_size)\n",
    "validation_input_window, validation_label_window = create_window(validation_df, window_size, slide_size)"
   ]
  },
  {
   "cell_type": "markdown",
   "id": "2105a0c2",
   "metadata": {
    "jupyter": {
     "outputs_hidden": false
    },
    "papermill": {
     "duration": 0.326536,
     "end_time": "2024-10-25T06:16:07.984915",
     "exception": false,
     "start_time": "2024-10-25T06:16:07.658379",
     "status": "completed"
    },
    "tags": []
   },
   "source": [
    "# Save Train and Validation Data"
   ]
  },
  {
   "cell_type": "code",
   "execution_count": 8,
   "id": "20c750d3",
   "metadata": {
    "ExecuteTime": {
     "end_time": "2024-05-31T12:37:29.948240Z",
     "start_time": "2024-05-31T12:37:29.896124Z"
    },
    "collapsed": false,
    "execution": {
     "iopub.execute_input": "2024-10-25T06:16:08.634355Z",
     "iopub.status.busy": "2024-10-25T06:16:08.633605Z",
     "iopub.status.idle": "2024-10-25T06:16:08.638160Z",
     "shell.execute_reply": "2024-10-25T06:16:08.637256Z"
    },
    "jupyter": {
     "outputs_hidden": false
    },
    "papermill": {
     "duration": 0.332679,
     "end_time": "2024-10-25T06:16:08.640203",
     "exception": false,
     "start_time": "2024-10-25T06:16:08.307524",
     "status": "completed"
    },
    "tags": []
   },
   "outputs": [],
   "source": [
    "# with open('data/train_input_window.pkl', 'wb') as f:\n",
    "#     pickle.dump(train_input_window, f)\n",
    "#     \n",
    "# with open('data/train_label_window.pkl', 'wb') as f:\n",
    "#     pickle.dump(train_label_window, f)\n",
    "#     \n",
    "# with open('data/validation_input_window.pkl', 'wb') as f:\n",
    "#     pickle.dump(validation_input_window, f)\n",
    "#     \n",
    "# with open('data/validation_label_window.pkl', 'wb') as f:\n",
    "#     pickle.dump(validation_label_window, f)"
   ]
  },
  {
   "cell_type": "code",
   "execution_count": 9,
   "id": "663bfd90",
   "metadata": {
    "ExecuteTime": {
     "end_time": "2024-05-31T12:37:29.969214Z",
     "start_time": "2024-05-31T12:37:29.950644Z"
    },
    "collapsed": false,
    "execution": {
     "iopub.execute_input": "2024-10-25T06:16:09.324744Z",
     "iopub.status.busy": "2024-10-25T06:16:09.324386Z",
     "iopub.status.idle": "2024-10-25T06:16:09.328588Z",
     "shell.execute_reply": "2024-10-25T06:16:09.327760Z"
    },
    "jupyter": {
     "outputs_hidden": false
    },
    "papermill": {
     "duration": 0.368816,
     "end_time": "2024-10-25T06:16:09.330509",
     "exception": false,
     "start_time": "2024-10-25T06:16:08.961693",
     "status": "completed"
    },
    "tags": []
   },
   "outputs": [],
   "source": [
    "# x_train, y_train = create_window(train_df, window_size, slide_size)\n",
    "# x_val, y_val = create_window(validation_df, window_size, slide_size)"
   ]
  },
  {
   "cell_type": "markdown",
   "id": "89f62e1e",
   "metadata": {
    "papermill": {
     "duration": 0.322362,
     "end_time": "2024-10-25T06:16:09.982522",
     "exception": false,
     "start_time": "2024-10-25T06:16:09.660160",
     "status": "completed"
    },
    "tags": []
   },
   "source": [
    "# Convert to Numpy Array and Reshape"
   ]
  },
  {
   "cell_type": "code",
   "execution_count": 10,
   "id": "945bab47",
   "metadata": {
    "ExecuteTime": {
     "end_time": "2024-05-31T12:52:38.319907Z",
     "start_time": "2024-05-31T12:37:29.970493Z"
    },
    "collapsed": false,
    "execution": {
     "iopub.execute_input": "2024-10-25T06:16:10.629707Z",
     "iopub.status.busy": "2024-10-25T06:16:10.628871Z",
     "iopub.status.idle": "2024-10-25T06:20:38.861364Z",
     "shell.execute_reply": "2024-10-25T06:20:38.860487Z"
    },
    "jupyter": {
     "outputs_hidden": false
    },
    "papermill": {
     "duration": 268.558186,
     "end_time": "2024-10-25T06:20:38.863927",
     "exception": false,
     "start_time": "2024-10-25T06:16:10.305741",
     "status": "completed"
    },
    "tags": []
   },
   "outputs": [],
   "source": [
    "x_train = np.array(train_input_window)\n",
    "y_train = np.array(train_label_window)\n",
    "x_val = np.array(validation_input_window)\n",
    "y_val = np.array(validation_label_window)"
   ]
  },
  {
   "cell_type": "code",
   "execution_count": 11,
   "id": "ba079dc8",
   "metadata": {
    "ExecuteTime": {
     "end_time": "2024-05-31T12:52:38.409644Z",
     "start_time": "2024-05-31T12:52:38.358989Z"
    },
    "collapsed": false,
    "execution": {
     "iopub.execute_input": "2024-10-25T06:20:39.509866Z",
     "iopub.status.busy": "2024-10-25T06:20:39.508998Z",
     "iopub.status.idle": "2024-10-25T06:20:39.514084Z",
     "shell.execute_reply": "2024-10-25T06:20:39.513178Z"
    },
    "jupyter": {
     "outputs_hidden": false
    },
    "papermill": {
     "duration": 0.330919,
     "end_time": "2024-10-25T06:20:39.516109",
     "exception": false,
     "start_time": "2024-10-25T06:20:39.185190",
     "status": "completed"
    },
    "tags": []
   },
   "outputs": [],
   "source": [
    "x_train = x_train.reshape(x_train.shape[0], x_train.shape[1], 1)\n",
    "x_val = x_val.reshape(x_val.shape[0], x_val.shape[1], 1)"
   ]
  },
  {
   "cell_type": "code",
   "execution_count": 12,
   "id": "fdcccab3",
   "metadata": {
    "ExecuteTime": {
     "end_time": "2024-05-31T12:52:38.440085Z",
     "start_time": "2024-05-31T12:52:38.413229Z"
    },
    "execution": {
     "iopub.execute_input": "2024-10-25T06:20:40.161653Z",
     "iopub.status.busy": "2024-10-25T06:20:40.160615Z",
     "iopub.status.idle": "2024-10-25T06:20:40.167087Z",
     "shell.execute_reply": "2024-10-25T06:20:40.166244Z"
    },
    "papermill": {
     "duration": 0.332712,
     "end_time": "2024-10-25T06:20:40.168843",
     "exception": false,
     "start_time": "2024-10-25T06:20:39.836131",
     "status": "completed"
    },
    "tags": []
   },
   "outputs": [
    {
     "data": {
      "text/plain": [
       "(3, 1)"
      ]
     },
     "execution_count": 12,
     "metadata": {},
     "output_type": "execute_result"
    }
   ],
   "source": [
    "x_train.shape[1:]"
   ]
  },
  {
   "cell_type": "code",
   "execution_count": 13,
   "id": "854eb6c2",
   "metadata": {
    "ExecuteTime": {
     "end_time": "2024-05-31T12:52:42.395917Z",
     "start_time": "2024-05-31T12:52:38.443488Z"
    },
    "collapsed": false,
    "execution": {
     "iopub.execute_input": "2024-10-25T06:20:40.856761Z",
     "iopub.status.busy": "2024-10-25T06:20:40.856075Z",
     "iopub.status.idle": "2024-10-25T06:20:42.161848Z",
     "shell.execute_reply": "2024-10-25T06:20:42.160988Z"
    },
    "jupyter": {
     "outputs_hidden": false
    },
    "papermill": {
     "duration": 1.631817,
     "end_time": "2024-10-25T06:20:42.163797",
     "exception": false,
     "start_time": "2024-10-25T06:20:40.531980",
     "status": "completed"
    },
    "tags": []
   },
   "outputs": [
    {
     "name": "stderr",
     "output_type": "stream",
     "text": [
      "/opt/conda/lib/python3.10/site-packages/keras/src/layers/rnn/rnn.py:204: UserWarning: Do not pass an `input_shape`/`input_dim` argument to a layer. When using Sequential models, prefer using an `Input(shape)` object as the first layer in the model instead.\n",
      "  super().__init__(**kwargs)\n"
     ]
    },
    {
     "data": {
      "text/html": [
       "<pre style=\"white-space:pre;overflow-x:auto;line-height:normal;font-family:Menlo,'DejaVu Sans Mono',consolas,'Courier New',monospace\"><span style=\"font-weight: bold\">Model: \"sequential\"</span>\n",
       "</pre>\n"
      ],
      "text/plain": [
       "\u001b[1mModel: \"sequential\"\u001b[0m\n"
      ]
     },
     "metadata": {},
     "output_type": "display_data"
    },
    {
     "data": {
      "text/html": [
       "<pre style=\"white-space:pre;overflow-x:auto;line-height:normal;font-family:Menlo,'DejaVu Sans Mono',consolas,'Courier New',monospace\">┏━━━━━━━━━━━━━━━━━━━━━━━━━━━━━━━━━┳━━━━━━━━━━━━━━━━━━━━━━━━┳━━━━━━━━━━━━━━━┓\n",
       "┃<span style=\"font-weight: bold\"> Layer (type)                    </span>┃<span style=\"font-weight: bold\"> Output Shape           </span>┃<span style=\"font-weight: bold\">       Param # </span>┃\n",
       "┡━━━━━━━━━━━━━━━━━━━━━━━━━━━━━━━━━╇━━━━━━━━━━━━━━━━━━━━━━━━╇━━━━━━━━━━━━━━━┩\n",
       "│ lstm (<span style=\"color: #0087ff; text-decoration-color: #0087ff\">LSTM</span>)                     │ (<span style=\"color: #00d7ff; text-decoration-color: #00d7ff\">None</span>, <span style=\"color: #00af00; text-decoration-color: #00af00\">3</span>, <span style=\"color: #00af00; text-decoration-color: #00af00\">4</span>)           │            <span style=\"color: #00af00; text-decoration-color: #00af00\">96</span> │\n",
       "├─────────────────────────────────┼────────────────────────┼───────────────┤\n",
       "│ lstm_1 (<span style=\"color: #0087ff; text-decoration-color: #0087ff\">LSTM</span>)                   │ (<span style=\"color: #00d7ff; text-decoration-color: #00d7ff\">None</span>, <span style=\"color: #00af00; text-decoration-color: #00af00\">4</span>)              │           <span style=\"color: #00af00; text-decoration-color: #00af00\">144</span> │\n",
       "├─────────────────────────────────┼────────────────────────┼───────────────┤\n",
       "│ dense (<span style=\"color: #0087ff; text-decoration-color: #0087ff\">Dense</span>)                   │ (<span style=\"color: #00d7ff; text-decoration-color: #00d7ff\">None</span>, <span style=\"color: #00af00; text-decoration-color: #00af00\">16</span>)             │            <span style=\"color: #00af00; text-decoration-color: #00af00\">80</span> │\n",
       "├─────────────────────────────────┼────────────────────────┼───────────────┤\n",
       "│ dense_1 (<span style=\"color: #0087ff; text-decoration-color: #0087ff\">Dense</span>)                 │ (<span style=\"color: #00d7ff; text-decoration-color: #00d7ff\">None</span>, <span style=\"color: #00af00; text-decoration-color: #00af00\">1</span>)              │            <span style=\"color: #00af00; text-decoration-color: #00af00\">17</span> │\n",
       "└─────────────────────────────────┴────────────────────────┴───────────────┘\n",
       "</pre>\n"
      ],
      "text/plain": [
       "┏━━━━━━━━━━━━━━━━━━━━━━━━━━━━━━━━━┳━━━━━━━━━━━━━━━━━━━━━━━━┳━━━━━━━━━━━━━━━┓\n",
       "┃\u001b[1m \u001b[0m\u001b[1mLayer (type)                   \u001b[0m\u001b[1m \u001b[0m┃\u001b[1m \u001b[0m\u001b[1mOutput Shape          \u001b[0m\u001b[1m \u001b[0m┃\u001b[1m \u001b[0m\u001b[1m      Param #\u001b[0m\u001b[1m \u001b[0m┃\n",
       "┡━━━━━━━━━━━━━━━━━━━━━━━━━━━━━━━━━╇━━━━━━━━━━━━━━━━━━━━━━━━╇━━━━━━━━━━━━━━━┩\n",
       "│ lstm (\u001b[38;5;33mLSTM\u001b[0m)                     │ (\u001b[38;5;45mNone\u001b[0m, \u001b[38;5;34m3\u001b[0m, \u001b[38;5;34m4\u001b[0m)           │            \u001b[38;5;34m96\u001b[0m │\n",
       "├─────────────────────────────────┼────────────────────────┼───────────────┤\n",
       "│ lstm_1 (\u001b[38;5;33mLSTM\u001b[0m)                   │ (\u001b[38;5;45mNone\u001b[0m, \u001b[38;5;34m4\u001b[0m)              │           \u001b[38;5;34m144\u001b[0m │\n",
       "├─────────────────────────────────┼────────────────────────┼───────────────┤\n",
       "│ dense (\u001b[38;5;33mDense\u001b[0m)                   │ (\u001b[38;5;45mNone\u001b[0m, \u001b[38;5;34m16\u001b[0m)             │            \u001b[38;5;34m80\u001b[0m │\n",
       "├─────────────────────────────────┼────────────────────────┼───────────────┤\n",
       "│ dense_1 (\u001b[38;5;33mDense\u001b[0m)                 │ (\u001b[38;5;45mNone\u001b[0m, \u001b[38;5;34m1\u001b[0m)              │            \u001b[38;5;34m17\u001b[0m │\n",
       "└─────────────────────────────────┴────────────────────────┴───────────────┘\n"
      ]
     },
     "metadata": {},
     "output_type": "display_data"
    },
    {
     "data": {
      "text/html": [
       "<pre style=\"white-space:pre;overflow-x:auto;line-height:normal;font-family:Menlo,'DejaVu Sans Mono',consolas,'Courier New',monospace\"><span style=\"font-weight: bold\"> Total params: </span><span style=\"color: #00af00; text-decoration-color: #00af00\">337</span> (1.32 KB)\n",
       "</pre>\n"
      ],
      "text/plain": [
       "\u001b[1m Total params: \u001b[0m\u001b[38;5;34m337\u001b[0m (1.32 KB)\n"
      ]
     },
     "metadata": {},
     "output_type": "display_data"
    },
    {
     "data": {
      "text/html": [
       "<pre style=\"white-space:pre;overflow-x:auto;line-height:normal;font-family:Menlo,'DejaVu Sans Mono',consolas,'Courier New',monospace\"><span style=\"font-weight: bold\"> Trainable params: </span><span style=\"color: #00af00; text-decoration-color: #00af00\">337</span> (1.32 KB)\n",
       "</pre>\n"
      ],
      "text/plain": [
       "\u001b[1m Trainable params: \u001b[0m\u001b[38;5;34m337\u001b[0m (1.32 KB)\n"
      ]
     },
     "metadata": {},
     "output_type": "display_data"
    },
    {
     "data": {
      "text/html": [
       "<pre style=\"white-space:pre;overflow-x:auto;line-height:normal;font-family:Menlo,'DejaVu Sans Mono',consolas,'Courier New',monospace\"><span style=\"font-weight: bold\"> Non-trainable params: </span><span style=\"color: #00af00; text-decoration-color: #00af00\">0</span> (0.00 B)\n",
       "</pre>\n"
      ],
      "text/plain": [
       "\u001b[1m Non-trainable params: \u001b[0m\u001b[38;5;34m0\u001b[0m (0.00 B)\n"
      ]
     },
     "metadata": {},
     "output_type": "display_data"
    }
   ],
   "source": [
    "model = tf.keras.models.Sequential([\n",
    "    tf.keras.layers.LSTM(4, input_shape=(x_train.shape[1:]), return_sequences=True),\n",
    "    tf.keras.layers.LSTM(4, return_sequences=False),\n",
    "    tf.keras.layers.Dense(16, activation='relu'),\n",
    "    tf.keras.layers.Dense(1, activation='relu')\n",
    "])\n",
    "\n",
    "model.compile(optimizer='adam', loss='mae', metrics=[tf.keras.metrics.RootMeanSquaredError()])\n",
    "model.summary()"
   ]
  },
  {
   "cell_type": "code",
   "execution_count": 14,
   "id": "4223b2ae",
   "metadata": {
    "ExecuteTime": {
     "end_time": "2024-05-31T15:30:45.735999Z",
     "start_time": "2024-05-31T12:52:42.398919Z"
    },
    "collapsed": false,
    "execution": {
     "iopub.execute_input": "2024-10-25T06:20:42.829713Z",
     "iopub.status.busy": "2024-10-25T06:20:42.828846Z",
     "iopub.status.idle": "2024-10-25T08:54:44.760777Z",
     "shell.execute_reply": "2024-10-25T08:54:44.759918Z"
    },
    "jupyter": {
     "outputs_hidden": false
    },
    "papermill": {
     "duration": 9242.259629,
     "end_time": "2024-10-25T08:54:44.763119",
     "exception": false,
     "start_time": "2024-10-25T06:20:42.503490",
     "status": "completed"
    },
    "tags": []
   },
   "outputs": [
    {
     "name": "stdout",
     "output_type": "stream",
     "text": [
      "Epoch 1/10\n",
      "\u001b[1m184619/184619\u001b[0m \u001b[32m━━━━━━━━━━━━━━━━━━━━\u001b[0m\u001b[37m\u001b[0m \u001b[1m923s\u001b[0m 5ms/step - loss: 13.9125 - root_mean_squared_error: 42.5555 - val_loss: 2.0410 - val_root_mean_squared_error: 2.5910\n",
      "Epoch 2/10\n",
      "\u001b[1m184619/184619\u001b[0m \u001b[32m━━━━━━━━━━━━━━━━━━━━\u001b[0m\u001b[37m\u001b[0m \u001b[1m940s\u001b[0m 5ms/step - loss: 1.8427 - root_mean_squared_error: 2.4020 - val_loss: 2.0506 - val_root_mean_squared_error: 2.6122\n",
      "Epoch 3/10\n",
      "\u001b[1m184619/184619\u001b[0m \u001b[32m━━━━━━━━━━━━━━━━━━━━\u001b[0m\u001b[37m\u001b[0m \u001b[1m935s\u001b[0m 5ms/step - loss: 1.8431 - root_mean_squared_error: 2.4007 - val_loss: 2.0413 - val_root_mean_squared_error: 2.5920\n",
      "Epoch 4/10\n",
      "\u001b[1m184619/184619\u001b[0m \u001b[32m━━━━━━━━━━━━━━━━━━━━\u001b[0m\u001b[37m\u001b[0m \u001b[1m926s\u001b[0m 5ms/step - loss: 1.8437 - root_mean_squared_error: 2.4025 - val_loss: 2.0511 - val_root_mean_squared_error: 2.6130\n",
      "Epoch 5/10\n",
      "\u001b[1m184619/184619\u001b[0m \u001b[32m━━━━━━━━━━━━━━━━━━━━\u001b[0m\u001b[37m\u001b[0m \u001b[1m917s\u001b[0m 5ms/step - loss: 1.8429 - root_mean_squared_error: 2.4006 - val_loss: 2.0408 - val_root_mean_squared_error: 2.5886\n",
      "Epoch 6/10\n",
      "\u001b[1m184619/184619\u001b[0m \u001b[32m━━━━━━━━━━━━━━━━━━━━\u001b[0m\u001b[37m\u001b[0m \u001b[1m920s\u001b[0m 5ms/step - loss: 1.8429 - root_mean_squared_error: 2.3999 - val_loss: 2.0410 - val_root_mean_squared_error: 2.5878\n",
      "Epoch 7/10\n",
      "\u001b[1m184619/184619\u001b[0m \u001b[32m━━━━━━━━━━━━━━━━━━━━\u001b[0m\u001b[37m\u001b[0m \u001b[1m922s\u001b[0m 5ms/step - loss: 1.8428 - root_mean_squared_error: 2.4005 - val_loss: 2.0439 - val_root_mean_squared_error: 2.5988\n",
      "Epoch 8/10\n",
      "\u001b[1m184619/184619\u001b[0m \u001b[32m━━━━━━━━━━━━━━━━━━━━\u001b[0m\u001b[37m\u001b[0m \u001b[1m922s\u001b[0m 5ms/step - loss: 1.8436 - root_mean_squared_error: 2.4015 - val_loss: 2.0542 - val_root_mean_squared_error: 2.6186\n",
      "Epoch 9/10\n",
      "\u001b[1m184619/184619\u001b[0m \u001b[32m━━━━━━━━━━━━━━━━━━━━\u001b[0m\u001b[37m\u001b[0m \u001b[1m921s\u001b[0m 5ms/step - loss: 1.8424 - root_mean_squared_error: 2.4008 - val_loss: 2.0474 - val_root_mean_squared_error: 2.6062\n",
      "Epoch 10/10\n",
      "\u001b[1m184619/184619\u001b[0m \u001b[32m━━━━━━━━━━━━━━━━━━━━\u001b[0m\u001b[37m\u001b[0m \u001b[1m916s\u001b[0m 5ms/step - loss: 1.8433 - root_mean_squared_error: 2.4008 - val_loss: 2.0987 - val_root_mean_squared_error: 2.6878\n"
     ]
    }
   ],
   "source": [
    "history = model.fit(x_train, y_train, epochs=10, validation_data=(x_val, y_val))"
   ]
  },
  {
   "cell_type": "code",
   "execution_count": 15,
   "id": "a8b6481c",
   "metadata": {
    "ExecuteTime": {
     "end_time": "2024-05-31T15:30:46.893891Z",
     "start_time": "2024-05-31T15:30:45.737572Z"
    },
    "execution": {
     "iopub.execute_input": "2024-10-25T08:55:14.947224Z",
     "iopub.status.busy": "2024-10-25T08:55:14.946809Z",
     "iopub.status.idle": "2024-10-25T08:55:15.588791Z",
     "shell.execute_reply": "2024-10-25T08:55:15.587858Z"
    },
    "papermill": {
     "duration": 15.803616,
     "end_time": "2024-10-25T08:55:15.590769",
     "exception": false,
     "start_time": "2024-10-25T08:54:59.787153",
     "status": "completed"
    },
    "tags": []
   },
   "outputs": [
    {
     "data": {
      "image/png": "[encoded data removed]",
      "text/plain": [
       "<Figure size 1200x600 with 1 Axes>"
      ]
     },
     "metadata": {},
     "output_type": "display_data"
    },
    {
     "data": {
      "image/png": "[encoded data removed]",
      "text/plain": [
       "<Figure size 1200x600 with 1 Axes>"
      ]
     },
     "metadata": {},
     "output_type": "display_data"
    }
   ],
   "source": [
    "# TODO: plot loss and metrics\n",
    "\n",
    "import matplotlib.pyplot as plt\n",
    "\n",
    "# Plot training & validation loss values\n",
    "plt.figure(figsize=(12, 6))\n",
    "plt.plot(history.history['loss'])\n",
    "plt.plot(history.history['val_loss'])\n",
    "plt.title('Model loss')\n",
    "plt.ylabel('Loss')\n",
    "plt.xlabel('Epoch')\n",
    "plt.legend(['Train', 'Validation'], loc='upper right')\n",
    "plt.show()\n",
    "\n",
    "# Plot training & validation RMSE values\n",
    "plt.figure(figsize=(12, 6))\n",
    "plt.plot(history.history['root_mean_squared_error'])\n",
    "plt.plot(history.history['val_root_mean_squared_error'])\n",
    "plt.title('Model Root Mean Squared Error')\n",
    "plt.ylabel('RMSE')\n",
    "plt.xlabel('Epoch')\n",
    "plt.legend(['Train', 'Validation'], loc='upper right')\n",
    "plt.show()"
   ]
  },
  {
   "cell_type": "code",
   "execution_count": 16,
   "id": "fa8df05e",
   "metadata": {
    "ExecuteTime": {
     "end_time": "2024-05-31T15:30:46.992984Z",
     "start_time": "2024-05-31T15:30:46.893891Z"
    },
    "collapsed": false,
    "execution": {
     "iopub.execute_input": "2024-10-25T08:55:45.740146Z",
     "iopub.status.busy": "2024-10-25T08:55:45.739685Z",
     "iopub.status.idle": "2024-10-25T08:55:45.802591Z",
     "shell.execute_reply": "2024-10-25T08:55:45.801627Z"
    },
    "jupyter": {
     "outputs_hidden": false
    },
    "papermill": {
     "duration": 15.269555,
     "end_time": "2024-10-25T08:55:45.804713",
     "exception": false,
     "start_time": "2024-10-25T08:55:30.535158",
     "status": "completed"
    },
    "tags": []
   },
   "outputs": [],
   "source": [
    "# save model\n",
    "model.save('/kaggle/working/model.keras')"
   ]
  },
  {
   "cell_type": "code",
   "execution_count": 17,
   "id": "d7d09973",
   "metadata": {
    "ExecuteTime": {
     "end_time": "2024-05-31T15:30:47.008617Z",
     "start_time": "2024-05-31T15:30:46.992984Z"
    },
    "collapsed": false,
    "execution": {
     "iopub.execute_input": "2024-10-25T08:56:15.925607Z",
     "iopub.status.busy": "2024-10-25T08:56:15.924742Z",
     "iopub.status.idle": "2024-10-25T08:56:15.928954Z",
     "shell.execute_reply": "2024-10-25T08:56:15.928082Z"
    },
    "jupyter": {
     "outputs_hidden": false
    },
    "papermill": {
     "duration": 15.105727,
     "end_time": "2024-10-25T08:56:15.930919",
     "exception": false,
     "start_time": "2024-10-25T08:56:00.825192",
     "status": "completed"
    },
    "tags": []
   },
   "outputs": [],
   "source": [
    "# TODO: try with different model configuration"
   ]
  }
 ],
 "metadata": {
  "kaggle": {
   "accelerator": "gpu",
   "dataSources": [
    {
     "datasetId": 5606517,
     "sourceId": 9265012,
     "sourceType": "datasetVersion"
    }
   ],
   "dockerImageVersionId": 30787,
   "isGpuEnabled": true,
   "isInternetEnabled": true,
   "language": "python",
   "sourceType": "notebook"
  },
  "kernelspec": {
   "display_name": "Python 3",
   "language": "python",
   "name": "python3"
  },
  "language_info": {
   "codemirror_mode": {
    "name": "ipython",
    "version": 3
   },
   "file_extension": ".py",
   "mimetype": "text/x-python",
   "name": "python",
   "nbconvert_exporter": "python",
   "pygments_lexer": "ipython3",
   "version": "3.10.14"
  },
  "papermill": {
   "default_parameters": {},
   "duration": 10247.503974,
   "end_time": "2024-10-25T08:56:35.245776",
   "environment_variables": {},
   "exception": null,
   "input_path": "__notebook__.ipynb",
   "output_path": "__notebook__.ipynb",
   "parameters": {},
   "start_time": "2024-10-25T06:05:47.741802",
   "version": "2.6.0"
  }
 },
 "nbformat": 4,
 "nbformat_minor": 5
}
