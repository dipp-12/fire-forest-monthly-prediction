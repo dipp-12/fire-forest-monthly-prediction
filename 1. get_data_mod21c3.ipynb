{
 "cells": [
  {
   "cell_type": "code",
   "id": "769fa92b-b538-4d1b-8bbd-a384ef45e7b6",
   "metadata": {
    "tags": [],
    "ExecuteTime": {
     "end_time": "2024-05-15T04:56:49.335414Z",
     "start_time": "2024-05-15T04:56:49.323861Z"
    }
   },
   "source": "# !pip install earthengine-api",
   "outputs": [],
   "execution_count": 1
  },
  {
   "cell_type": "code",
   "id": "initial_id",
   "metadata": {
    "tags": [],
    "ExecuteTime": {
     "end_time": "2024-05-15T04:56:53.416410Z",
     "start_time": "2024-05-15T04:56:49.340754Z"
    }
   },
   "source": [
    "import ee\n",
    "import json\n",
    "import pickle\n",
    "import pandas as pd\n",
    "from datetime import datetime\n",
    "from dateutil.relativedelta import relativedelta"
   ],
   "outputs": [],
   "execution_count": 2
  },
  {
   "cell_type": "markdown",
   "id": "b566b406b5c52368",
   "metadata": {},
   "source": [
    "### Initialize and authentication to Google Earth Engine"
   ]
  },
  {
   "cell_type": "code",
   "id": "5d9b2956-cadb-425f-adb3-f486f0bbf76a",
   "metadata": {
    "tags": [],
    "ExecuteTime": {
     "end_time": "2024-05-15T04:57:44.271736Z",
     "start_time": "2024-05-15T04:56:53.421607Z"
    }
   },
   "source": [
    "ee.Authenticate()"
   ],
   "outputs": [
    {
     "data": {
      "text/plain": [
       "<IPython.core.display.HTML object>"
      ],
      "text/html": [
       "<p>To authorize access needed by Earth Engine, open the following\n",
       "        URL in a web browser and follow the instructions:</p>\n",
       "        <p><a href=https://code.earthengine.google.com/client-auth?scopes=https%3A//www.googleapis.com/auth/earthengine%20https%3A//www.googleapis.com/auth/cloud-platform%20https%3A//www.googleapis.com/auth/devstorage.full_control&request_id=kPhIkFFzvzB-CR2626pgGLaV6nrFnk6yhXGhJ5TWD4U&tc=w-BQE52n_1SaSCahQUNmlMuwEpVXcR_lOyM2-sqAnCM&cc=TeXBygcgT6lM_o4HowHERLHPhL8XM70gx9_QU06ipU8>https://code.earthengine.google.com/client-auth?scopes=https%3A//www.googleapis.com/auth/earthengine%20https%3A//www.googleapis.com/auth/cloud-platform%20https%3A//www.googleapis.com/auth/devstorage.full_control&request_id=kPhIkFFzvzB-CR2626pgGLaV6nrFnk6yhXGhJ5TWD4U&tc=w-BQE52n_1SaSCahQUNmlMuwEpVXcR_lOyM2-sqAnCM&cc=TeXBygcgT6lM_o4HowHERLHPhL8XM70gx9_QU06ipU8</a></p>\n",
       "        <p>The authorization workflow will generate a code, which you should paste in the box below.</p>\n",
       "        "
      ]
     },
     "metadata": {},
     "output_type": "display_data"
    },
    {
     "name": "stdout",
     "output_type": "stream",
     "text": [
      "\n",
      "Successfully saved authorization token.\n"
     ]
    }
   ],
   "execution_count": 3
  },
  {
   "cell_type": "code",
   "id": "a16e2ede57b57c85",
   "metadata": {
    "collapsed": false,
    "tags": [],
    "ExecuteTime": {
     "end_time": "2024-05-15T04:57:50.040586Z",
     "start_time": "2024-05-15T04:57:44.275874Z"
    }
   },
   "source": [
    "ee.Initialize()"
   ],
   "outputs": [],
   "execution_count": 4
  },
  {
   "cell_type": "markdown",
   "id": "74d5bb651635a40f",
   "metadata": {},
   "source": [
    "### Get geolocation data for Kalimantan Barat"
   ]
  },
  {
   "cell_type": "code",
   "id": "de7e4f4649e6bfdf",
   "metadata": {
    "collapsed": false,
    "tags": [],
    "ExecuteTime": {
     "end_time": "2024-05-15T04:57:50.162540Z",
     "start_time": "2024-05-15T04:57:50.044159Z"
    }
   },
   "source": [
    "f = open('data/indonesia.geojson')\n",
    "geojson = f.read()\n",
    "f.close"
   ],
   "outputs": [
    {
     "data": {
      "text/plain": [
       "<function TextIOWrapper.close()>"
      ]
     },
     "execution_count": 5,
     "metadata": {},
     "output_type": "execute_result"
    }
   ],
   "execution_count": 5
  },
  {
   "cell_type": "code",
   "id": "773f4397389fb0a1",
   "metadata": {
    "collapsed": false,
    "tags": [],
    "ExecuteTime": {
     "end_time": "2024-05-15T04:57:50.255589Z",
     "start_time": "2024-05-15T04:57:50.170556Z"
    }
   },
   "source": [
    "geojson = json.loads(geojson)\n",
    "geojson_featureCollection = ee.FeatureCollection(geojson).filter('state == \"Kalimantan Barat\"')"
   ],
   "outputs": [],
   "execution_count": 6
  },
  {
   "cell_type": "markdown",
   "id": "a553649cb783adac",
   "metadata": {},
   "source": [
    "### Initialization variable"
   ]
  },
  {
   "cell_type": "code",
   "id": "9b3d817332c523cc",
   "metadata": {
    "collapsed": false,
    "tags": [],
    "ExecuteTime": {
     "end_time": "2024-05-15T04:57:50.270579Z",
     "start_time": "2024-05-15T04:57:50.260049Z"
    }
   },
   "source": [
    "initial_date = datetime.strptime('2019-01-01', '%Y-%m-%d')\n",
    "final_date = datetime.strptime('2024-01-01', '%Y-%m-%d')"
   ],
   "outputs": [],
   "execution_count": 7
  },
  {
   "cell_type": "code",
   "id": "9188338ed8c34ff1",
   "metadata": {
    "collapsed": false,
    "tags": [],
    "ExecuteTime": {
     "end_time": "2024-05-15T04:57:50.285565Z",
     "start_time": "2024-05-15T04:57:50.274007Z"
    }
   },
   "source": [
    "list_data = []\n",
    "current_date = initial_date\n",
    "error_list = []"
   ],
   "outputs": [],
   "execution_count": 8
  },
  {
   "cell_type": "markdown",
   "id": "7f61eff3366e4558",
   "metadata": {},
   "source": [
    "### Getting data per day using while loop from initial date till final date"
   ]
  },
  {
   "metadata": {},
   "cell_type": "markdown",
   "source": [
    "#### MOD21C3\n",
    "Using data from MODIS 061 MOD21C3 (MODIS/Terra Land Surface Temperature and Emissivity Monthly L3 Global 1km SIN Grid V006) from Google Earth Engine. This dataset provides land surface temperature (LST) and emissivity data. The data is available monthly. For more information, visit this link:\n",
    "https://developers.google.com/earth-engine/datasets/catalog/MODIS_061_MOD21C3"
   ],
   "id": "2272f115ce1e4ddc"
  },
  {
   "cell_type": "code",
   "id": "41cc315bcf871436",
   "metadata": {
    "collapsed": false,
    "tags": [],
    "ExecuteTime": {
     "end_time": "2024-05-15T05:09:14.654043Z",
     "start_time": "2024-05-15T04:57:50.290096Z"
    }
   },
   "source": [
    "while current_date < final_date:\n",
    "    print('Processing on date: ', current_date)\n",
    "    \n",
    "    try:\n",
    "        image_collection = (\n",
    "            ee.ImageCollection('MODIS/061/MOD21C3')\n",
    "            .filterBounds(geojson_featureCollection)\n",
    "            .filterDate(current_date)\n",
    "            .select('LST_Day')\n",
    "        )\n",
    "    \n",
    "        image_list = image_collection.getRegion(geometry=geojson_featureCollection, scale=1000).getInfo()\n",
    "    \n",
    "        list_data.append(image_list)\n",
    "    except:\n",
    "        error_list.append(current_date.strftime('%Y-%m-%d'))\n",
    "        \n",
    "    current_date += relativedelta(months=1)"
   ],
   "outputs": [
    {
     "name": "stdout",
     "output_type": "stream",
     "text": [
      "Processing on date:  2019-01-01 00:00:00\n",
      "Processing on date:  2019-02-01 00:00:00\n",
      "Processing on date:  2019-03-01 00:00:00\n",
      "Processing on date:  2019-04-01 00:00:00\n",
      "Processing on date:  2019-05-01 00:00:00\n",
      "Processing on date:  2019-06-01 00:00:00\n",
      "Processing on date:  2019-07-01 00:00:00\n",
      "Processing on date:  2019-08-01 00:00:00\n",
      "Processing on date:  2019-09-01 00:00:00\n",
      "Processing on date:  2019-10-01 00:00:00\n",
      "Processing on date:  2019-11-01 00:00:00\n",
      "Processing on date:  2019-12-01 00:00:00\n",
      "Processing on date:  2020-01-01 00:00:00\n",
      "Processing on date:  2020-02-01 00:00:00\n",
      "Processing on date:  2020-03-01 00:00:00\n",
      "Processing on date:  2020-04-01 00:00:00\n",
      "Processing on date:  2020-05-01 00:00:00\n",
      "Processing on date:  2020-06-01 00:00:00\n",
      "Processing on date:  2020-07-01 00:00:00\n",
      "Processing on date:  2020-08-01 00:00:00\n",
      "Processing on date:  2020-09-01 00:00:00\n",
      "Processing on date:  2020-10-01 00:00:00\n",
      "Processing on date:  2020-11-01 00:00:00\n",
      "Processing on date:  2020-12-01 00:00:00\n",
      "Processing on date:  2021-01-01 00:00:00\n",
      "Processing on date:  2021-02-01 00:00:00\n",
      "Processing on date:  2021-03-01 00:00:00\n",
      "Processing on date:  2021-04-01 00:00:00\n",
      "Processing on date:  2021-05-01 00:00:00\n",
      "Processing on date:  2021-06-01 00:00:00\n",
      "Processing on date:  2021-07-01 00:00:00\n",
      "Processing on date:  2021-08-01 00:00:00\n",
      "Processing on date:  2021-09-01 00:00:00\n",
      "Processing on date:  2021-10-01 00:00:00\n",
      "Processing on date:  2021-11-01 00:00:00\n",
      "Processing on date:  2021-12-01 00:00:00\n",
      "Processing on date:  2022-01-01 00:00:00\n",
      "Processing on date:  2022-02-01 00:00:00\n",
      "Processing on date:  2022-03-01 00:00:00\n",
      "Processing on date:  2022-04-01 00:00:00\n",
      "Processing on date:  2022-05-01 00:00:00\n",
      "Processing on date:  2022-06-01 00:00:00\n",
      "Processing on date:  2022-07-01 00:00:00\n",
      "Processing on date:  2022-08-01 00:00:00\n",
      "Processing on date:  2022-09-01 00:00:00\n",
      "Processing on date:  2022-10-01 00:00:00\n",
      "Processing on date:  2022-11-01 00:00:00\n",
      "Processing on date:  2022-12-01 00:00:00\n",
      "Processing on date:  2023-01-01 00:00:00\n",
      "Processing on date:  2023-02-01 00:00:00\n",
      "Processing on date:  2023-03-01 00:00:00\n",
      "Processing on date:  2023-04-01 00:00:00\n",
      "Processing on date:  2023-05-01 00:00:00\n",
      "Processing on date:  2023-06-01 00:00:00\n",
      "Processing on date:  2023-07-01 00:00:00\n",
      "Processing on date:  2023-08-01 00:00:00\n",
      "Processing on date:  2023-09-01 00:00:00\n",
      "Processing on date:  2023-10-01 00:00:00\n",
      "Processing on date:  2023-11-01 00:00:00\n",
      "Processing on date:  2023-12-01 00:00:00\n"
     ]
    }
   ],
   "execution_count": 9
  },
  {
   "cell_type": "markdown",
   "source": [
    "### Save data to pickle"
   ],
   "metadata": {
    "collapsed": false
   },
   "id": "d0de31376d3ff0fa"
  },
  {
   "cell_type": "code",
   "id": "8f58a3c4-9076-43f3-bee5-6f064823c184",
   "metadata": {
    "tags": [],
    "ExecuteTime": {
     "end_time": "2024-05-15T05:09:26.209187Z",
     "start_time": "2024-05-15T05:09:14.657150Z"
    }
   },
   "source": [
    "with open('data/raw_data_mod21c3.pkl', 'wb') as fp:\n",
    "    pickle.dump(list_data, fp)"
   ],
   "outputs": [],
   "execution_count": 10
  },
  {
   "cell_type": "markdown",
   "id": "70c7acaae7875d3d",
   "metadata": {},
   "source": [
    "### Save data to csv"
   ]
  },
  {
   "cell_type": "code",
   "id": "4cbffef34e6ab7c4",
   "metadata": {
    "collapsed": false,
    "ExecuteTime": {
     "end_time": "2024-05-15T05:10:53.894874Z",
     "start_time": "2024-05-15T05:09:26.213220Z"
    }
   },
   "source": [
    "df = pd.DataFrame(list_data)\n",
    "df.to_csv('data/raw_data_mod21c3.csv', index=False)"
   ],
   "outputs": [],
   "execution_count": 11
  },
  {
   "cell_type": "code",
   "id": "796d09d7f63ef3e9",
   "metadata": {
    "collapsed": false,
    "tags": [],
    "ExecuteTime": {
     "end_time": "2024-05-15T05:10:53.925843Z",
     "start_time": "2024-05-15T05:10:53.899599Z"
    }
   },
   "source": [
    "pd.DataFrame(error_list).to_csv('data/error_list_data_mod21c3.csv', index=False)"
   ],
   "outputs": [],
   "execution_count": 12
  },
  {
   "cell_type": "code",
   "id": "936df957-6f5e-4b82-a140-b8283eb0b96f",
   "metadata": {
    "ExecuteTime": {
     "end_time": "2024-05-15T05:10:53.955594Z",
     "start_time": "2024-05-15T05:10:53.932383Z"
    }
   },
   "source": [],
   "outputs": [],
   "execution_count": 12
  }
 ],
 "metadata": {
  "kernelspec": {
   "display_name": "Python 3 (ipykernel)",
   "language": "python",
   "name": "python3"
  },
  "language_info": {
   "codemirror_mode": {
    "name": "ipython",
    "version": 3
   },
   "file_extension": ".py",
   "mimetype": "text/x-python",
   "name": "python",
   "nbconvert_exporter": "python",
   "pygments_lexer": "ipython3",
   "version": "3.11.4"
  }
 },
 "nbformat": 4,
 "nbformat_minor": 5
}
