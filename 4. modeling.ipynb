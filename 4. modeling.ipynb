{
 "cells": [
  {
   "cell_type": "code",
   "execution_count": 1,
   "id": "a9c323082bfa56ad",
   "metadata": {
    "ExecuteTime": {
     "end_time": "2024-05-31T12:20:42.461475Z",
     "start_time": "2024-05-31T12:20:35.663961Z"
    },
    "collapsed": false,
    "jupyter": {
     "outputs_hidden": false
    }
   },
   "outputs": [],
   "source": [
    "import pandas as pd\n",
    "import numpy as np\n",
    "from tqdm import tqdm\n",
    "import tensorflow as tf"
   ]
  },
  {
   "cell_type": "code",
   "execution_count": 2,
   "id": "aefaa2a596fa56d0",
   "metadata": {
    "ExecuteTime": {
     "end_time": "2024-05-31T12:20:56.120864Z",
     "start_time": "2024-05-31T12:20:42.464806Z"
    },
    "collapsed": false,
    "jupyter": {
     "outputs_hidden": false
    }
   },
   "outputs": [
    {
     "data": {
      "text/html": [
       "<div>\n",
       "<style scoped>\n",
       "    .dataframe tbody tr th:only-of-type {\n",
       "        vertical-align: middle;\n",
       "    }\n",
       "\n",
       "    .dataframe tbody tr th {\n",
       "        vertical-align: top;\n",
       "    }\n",
       "\n",
       "    .dataframe thead th {\n",
       "        text-align: right;\n",
       "    }\n",
       "</style>\n",
       "<table border=\"1\" class=\"dataframe\">\n",
       "  <thead>\n",
       "    <tr style=\"text-align: right;\">\n",
       "      <th></th>\n",
       "      <th>year</th>\n",
       "      <th>date</th>\n",
       "      <th>[110.65896827426326, -3.0318140839033854]</th>\n",
       "      <th>[110.66795142710446, -3.0318140839033854]</th>\n",
       "      <th>[110.64998512142206, -3.02283093106219]</th>\n",
       "      <th>[110.65896827426326, -3.02283093106219]</th>\n",
       "      <th>[110.66795142710446, -3.02283093106219]</th>\n",
       "      <th>[110.67693457994565, -3.02283093106219]</th>\n",
       "      <th>[110.68591773278685, -3.02283093106219]</th>\n",
       "      <th>[110.64100196858087, -3.013847778220995]</th>\n",
       "      <th>...</th>\n",
       "      <th>[109.62590569752581, 2.016717812848326]</th>\n",
       "      <th>[109.61692254468461, 2.025700965689521]</th>\n",
       "      <th>[109.62590569752581, 2.025700965689521]</th>\n",
       "      <th>[109.61692254468461, 2.0346841185307163]</th>\n",
       "      <th>[109.62590569752581, 2.0346841185307163]</th>\n",
       "      <th>[109.62590569752581, 2.0436672713719113]</th>\n",
       "      <th>[109.62590569752581, 2.0526504242131067]</th>\n",
       "      <th>[109.634888850367, 2.0526504242131067]</th>\n",
       "      <th>[109.634888850367, 2.0616335770543017]</th>\n",
       "      <th>[109.1048828327365, 2.070616729895497]</th>\n",
       "    </tr>\n",
       "  </thead>\n",
       "  <tbody>\n",
       "    <tr>\n",
       "      <th>0</th>\n",
       "      <td>2019</td>\n",
       "      <td>2019_01_01</td>\n",
       "      <td>307.06</td>\n",
       "      <td>307.06</td>\n",
       "      <td>304.88</td>\n",
       "      <td>307.06</td>\n",
       "      <td>307.06</td>\n",
       "      <td>307.06</td>\n",
       "      <td>307.06</td>\n",
       "      <td>304.88</td>\n",
       "      <td>...</td>\n",
       "      <td>303.44</td>\n",
       "      <td>303.44</td>\n",
       "      <td>303.44</td>\n",
       "      <td>303.44</td>\n",
       "      <td>303.44</td>\n",
       "      <td>303.44</td>\n",
       "      <td>303.980</td>\n",
       "      <td>303.980</td>\n",
       "      <td>303.980</td>\n",
       "      <td>302.48</td>\n",
       "    </tr>\n",
       "    <tr>\n",
       "      <th>1</th>\n",
       "      <td>2019</td>\n",
       "      <td>2019_02_01</td>\n",
       "      <td>308.28</td>\n",
       "      <td>308.28</td>\n",
       "      <td>306.64</td>\n",
       "      <td>308.28</td>\n",
       "      <td>308.28</td>\n",
       "      <td>308.28</td>\n",
       "      <td>308.28</td>\n",
       "      <td>306.64</td>\n",
       "      <td>...</td>\n",
       "      <td>297.28</td>\n",
       "      <td>297.28</td>\n",
       "      <td>297.28</td>\n",
       "      <td>297.28</td>\n",
       "      <td>297.28</td>\n",
       "      <td>297.28</td>\n",
       "      <td>303.980</td>\n",
       "      <td>303.980</td>\n",
       "      <td>303.980</td>\n",
       "      <td>302.96</td>\n",
       "    </tr>\n",
       "    <tr>\n",
       "      <th>2</th>\n",
       "      <td>2019</td>\n",
       "      <td>2019_03_01</td>\n",
       "      <td>307.98</td>\n",
       "      <td>307.98</td>\n",
       "      <td>306.94</td>\n",
       "      <td>307.98</td>\n",
       "      <td>307.98</td>\n",
       "      <td>307.98</td>\n",
       "      <td>307.98</td>\n",
       "      <td>306.94</td>\n",
       "      <td>...</td>\n",
       "      <td>306.88</td>\n",
       "      <td>306.88</td>\n",
       "      <td>306.88</td>\n",
       "      <td>306.88</td>\n",
       "      <td>306.88</td>\n",
       "      <td>306.88</td>\n",
       "      <td>303.980</td>\n",
       "      <td>303.980</td>\n",
       "      <td>303.980</td>\n",
       "      <td>305.38</td>\n",
       "    </tr>\n",
       "    <tr>\n",
       "      <th>3</th>\n",
       "      <td>2019</td>\n",
       "      <td>2019_04_01</td>\n",
       "      <td>308.26</td>\n",
       "      <td>308.26</td>\n",
       "      <td>306.78</td>\n",
       "      <td>308.26</td>\n",
       "      <td>308.26</td>\n",
       "      <td>308.26</td>\n",
       "      <td>308.26</td>\n",
       "      <td>306.78</td>\n",
       "      <td>...</td>\n",
       "      <td>304.98</td>\n",
       "      <td>304.98</td>\n",
       "      <td>304.98</td>\n",
       "      <td>304.98</td>\n",
       "      <td>304.98</td>\n",
       "      <td>304.98</td>\n",
       "      <td>303.600</td>\n",
       "      <td>303.600</td>\n",
       "      <td>303.600</td>\n",
       "      <td>307.60</td>\n",
       "    </tr>\n",
       "    <tr>\n",
       "      <th>4</th>\n",
       "      <td>2019</td>\n",
       "      <td>2019_05_01</td>\n",
       "      <td>308.22</td>\n",
       "      <td>308.22</td>\n",
       "      <td>306.42</td>\n",
       "      <td>308.22</td>\n",
       "      <td>308.22</td>\n",
       "      <td>308.22</td>\n",
       "      <td>308.22</td>\n",
       "      <td>306.42</td>\n",
       "      <td>...</td>\n",
       "      <td>308.76</td>\n",
       "      <td>308.76</td>\n",
       "      <td>308.76</td>\n",
       "      <td>308.76</td>\n",
       "      <td>308.76</td>\n",
       "      <td>308.76</td>\n",
       "      <td>303.908</td>\n",
       "      <td>303.908</td>\n",
       "      <td>303.908</td>\n",
       "      <td>305.00</td>\n",
       "    </tr>\n",
       "  </tbody>\n",
       "</table>\n",
       "<p>5 rows × 147697 columns</p>\n",
       "</div>"
      ],
      "text/plain": [
       "   year        date  [110.65896827426326, -3.0318140839033854]  \\\n",
       "0  2019  2019_01_01                                     307.06   \n",
       "1  2019  2019_02_01                                     308.28   \n",
       "2  2019  2019_03_01                                     307.98   \n",
       "3  2019  2019_04_01                                     308.26   \n",
       "4  2019  2019_05_01                                     308.22   \n",
       "\n",
       "   [110.66795142710446, -3.0318140839033854]  \\\n",
       "0                                     307.06   \n",
       "1                                     308.28   \n",
       "2                                     307.98   \n",
       "3                                     308.26   \n",
       "4                                     308.22   \n",
       "\n",
       "   [110.64998512142206, -3.02283093106219]  \\\n",
       "0                                   304.88   \n",
       "1                                   306.64   \n",
       "2                                   306.94   \n",
       "3                                   306.78   \n",
       "4                                   306.42   \n",
       "\n",
       "   [110.65896827426326, -3.02283093106219]  \\\n",
       "0                                   307.06   \n",
       "1                                   308.28   \n",
       "2                                   307.98   \n",
       "3                                   308.26   \n",
       "4                                   308.22   \n",
       "\n",
       "   [110.66795142710446, -3.02283093106219]  \\\n",
       "0                                   307.06   \n",
       "1                                   308.28   \n",
       "2                                   307.98   \n",
       "3                                   308.26   \n",
       "4                                   308.22   \n",
       "\n",
       "   [110.67693457994565, -3.02283093106219]  \\\n",
       "0                                   307.06   \n",
       "1                                   308.28   \n",
       "2                                   307.98   \n",
       "3                                   308.26   \n",
       "4                                   308.22   \n",
       "\n",
       "   [110.68591773278685, -3.02283093106219]  \\\n",
       "0                                   307.06   \n",
       "1                                   308.28   \n",
       "2                                   307.98   \n",
       "3                                   308.26   \n",
       "4                                   308.22   \n",
       "\n",
       "   [110.64100196858087, -3.013847778220995]  ...  \\\n",
       "0                                    304.88  ...   \n",
       "1                                    306.64  ...   \n",
       "2                                    306.94  ...   \n",
       "3                                    306.78  ...   \n",
       "4                                    306.42  ...   \n",
       "\n",
       "   [109.62590569752581, 2.016717812848326]  \\\n",
       "0                                   303.44   \n",
       "1                                   297.28   \n",
       "2                                   306.88   \n",
       "3                                   304.98   \n",
       "4                                   308.76   \n",
       "\n",
       "   [109.61692254468461, 2.025700965689521]  \\\n",
       "0                                   303.44   \n",
       "1                                   297.28   \n",
       "2                                   306.88   \n",
       "3                                   304.98   \n",
       "4                                   308.76   \n",
       "\n",
       "   [109.62590569752581, 2.025700965689521]  \\\n",
       "0                                   303.44   \n",
       "1                                   297.28   \n",
       "2                                   306.88   \n",
       "3                                   304.98   \n",
       "4                                   308.76   \n",
       "\n",
       "   [109.61692254468461, 2.0346841185307163]  \\\n",
       "0                                    303.44   \n",
       "1                                    297.28   \n",
       "2                                    306.88   \n",
       "3                                    304.98   \n",
       "4                                    308.76   \n",
       "\n",
       "   [109.62590569752581, 2.0346841185307163]  \\\n",
       "0                                    303.44   \n",
       "1                                    297.28   \n",
       "2                                    306.88   \n",
       "3                                    304.98   \n",
       "4                                    308.76   \n",
       "\n",
       "   [109.62590569752581, 2.0436672713719113]  \\\n",
       "0                                    303.44   \n",
       "1                                    297.28   \n",
       "2                                    306.88   \n",
       "3                                    304.98   \n",
       "4                                    308.76   \n",
       "\n",
       "   [109.62590569752581, 2.0526504242131067]  \\\n",
       "0                                   303.980   \n",
       "1                                   303.980   \n",
       "2                                   303.980   \n",
       "3                                   303.600   \n",
       "4                                   303.908   \n",
       "\n",
       "   [109.634888850367, 2.0526504242131067]  \\\n",
       "0                                 303.980   \n",
       "1                                 303.980   \n",
       "2                                 303.980   \n",
       "3                                 303.600   \n",
       "4                                 303.908   \n",
       "\n",
       "   [109.634888850367, 2.0616335770543017]  \\\n",
       "0                                 303.980   \n",
       "1                                 303.980   \n",
       "2                                 303.980   \n",
       "3                                 303.600   \n",
       "4                                 303.908   \n",
       "\n",
       "   [109.1048828327365, 2.070616729895497]  \n",
       "0                                  302.48  \n",
       "1                                  302.96  \n",
       "2                                  305.38  \n",
       "3                                  307.60  \n",
       "4                                  305.00  \n",
       "\n",
       "[5 rows x 147697 columns]"
      ]
     },
     "execution_count": 2,
     "metadata": {},
     "output_type": "execute_result"
    }
   ],
   "source": [
    "df = pd.read_csv('data/training_validation_mod21c3.csv')\n",
    "df.head()"
   ]
  },
  {
   "cell_type": "code",
   "execution_count": 3,
   "id": "c5a06ecde89ab352",
   "metadata": {
    "ExecuteTime": {
     "end_time": "2024-05-31T12:20:56.198081Z",
     "start_time": "2024-05-31T12:20:56.122864Z"
    },
    "collapsed": false,
    "jupyter": {
     "outputs_hidden": false
    }
   },
   "outputs": [],
   "source": [
    "df = df.drop(columns=['year', 'date'])"
   ]
  },
  {
   "cell_type": "code",
   "execution_count": 4,
   "id": "de74f8ad3848befb",
   "metadata": {
    "ExecuteTime": {
     "end_time": "2024-05-31T12:20:56.244876Z",
     "start_time": "2024-05-31T12:20:56.200082Z"
    },
    "collapsed": false,
    "jupyter": {
     "outputs_hidden": false
    }
   },
   "outputs": [
    {
     "data": {
      "text/html": [
       "<div>\n",
       "<style scoped>\n",
       "    .dataframe tbody tr th:only-of-type {\n",
       "        vertical-align: middle;\n",
       "    }\n",
       "\n",
       "    .dataframe tbody tr th {\n",
       "        vertical-align: top;\n",
       "    }\n",
       "\n",
       "    .dataframe thead th {\n",
       "        text-align: right;\n",
       "    }\n",
       "</style>\n",
       "<table border=\"1\" class=\"dataframe\">\n",
       "  <thead>\n",
       "    <tr style=\"text-align: right;\">\n",
       "      <th></th>\n",
       "      <th>[110.65896827426326, -3.0318140839033854]</th>\n",
       "      <th>[110.66795142710446, -3.0318140839033854]</th>\n",
       "      <th>[110.64998512142206, -3.02283093106219]</th>\n",
       "      <th>[110.65896827426326, -3.02283093106219]</th>\n",
       "      <th>[110.66795142710446, -3.02283093106219]</th>\n",
       "      <th>[110.67693457994565, -3.02283093106219]</th>\n",
       "      <th>[110.68591773278685, -3.02283093106219]</th>\n",
       "      <th>[110.64100196858087, -3.013847778220995]</th>\n",
       "      <th>[110.64998512142206, -3.013847778220995]</th>\n",
       "      <th>[110.65896827426326, -3.013847778220995]</th>\n",
       "      <th>...</th>\n",
       "      <th>[109.62590569752581, 2.016717812848326]</th>\n",
       "      <th>[109.61692254468461, 2.025700965689521]</th>\n",
       "      <th>[109.62590569752581, 2.025700965689521]</th>\n",
       "      <th>[109.61692254468461, 2.0346841185307163]</th>\n",
       "      <th>[109.62590569752581, 2.0346841185307163]</th>\n",
       "      <th>[109.62590569752581, 2.0436672713719113]</th>\n",
       "      <th>[109.62590569752581, 2.0526504242131067]</th>\n",
       "      <th>[109.634888850367, 2.0526504242131067]</th>\n",
       "      <th>[109.634888850367, 2.0616335770543017]</th>\n",
       "      <th>[109.1048828327365, 2.070616729895497]</th>\n",
       "    </tr>\n",
       "  </thead>\n",
       "  <tbody>\n",
       "    <tr>\n",
       "      <th>0</th>\n",
       "      <td>307.06</td>\n",
       "      <td>307.06</td>\n",
       "      <td>304.88</td>\n",
       "      <td>307.06</td>\n",
       "      <td>307.06</td>\n",
       "      <td>307.06</td>\n",
       "      <td>307.06</td>\n",
       "      <td>304.88</td>\n",
       "      <td>304.88</td>\n",
       "      <td>307.06</td>\n",
       "      <td>...</td>\n",
       "      <td>303.44</td>\n",
       "      <td>303.44</td>\n",
       "      <td>303.44</td>\n",
       "      <td>303.44</td>\n",
       "      <td>303.44</td>\n",
       "      <td>303.44</td>\n",
       "      <td>303.980</td>\n",
       "      <td>303.980</td>\n",
       "      <td>303.980</td>\n",
       "      <td>302.48</td>\n",
       "    </tr>\n",
       "    <tr>\n",
       "      <th>1</th>\n",
       "      <td>308.28</td>\n",
       "      <td>308.28</td>\n",
       "      <td>306.64</td>\n",
       "      <td>308.28</td>\n",
       "      <td>308.28</td>\n",
       "      <td>308.28</td>\n",
       "      <td>308.28</td>\n",
       "      <td>306.64</td>\n",
       "      <td>306.64</td>\n",
       "      <td>308.28</td>\n",
       "      <td>...</td>\n",
       "      <td>297.28</td>\n",
       "      <td>297.28</td>\n",
       "      <td>297.28</td>\n",
       "      <td>297.28</td>\n",
       "      <td>297.28</td>\n",
       "      <td>297.28</td>\n",
       "      <td>303.980</td>\n",
       "      <td>303.980</td>\n",
       "      <td>303.980</td>\n",
       "      <td>302.96</td>\n",
       "    </tr>\n",
       "    <tr>\n",
       "      <th>2</th>\n",
       "      <td>307.98</td>\n",
       "      <td>307.98</td>\n",
       "      <td>306.94</td>\n",
       "      <td>307.98</td>\n",
       "      <td>307.98</td>\n",
       "      <td>307.98</td>\n",
       "      <td>307.98</td>\n",
       "      <td>306.94</td>\n",
       "      <td>306.94</td>\n",
       "      <td>307.98</td>\n",
       "      <td>...</td>\n",
       "      <td>306.88</td>\n",
       "      <td>306.88</td>\n",
       "      <td>306.88</td>\n",
       "      <td>306.88</td>\n",
       "      <td>306.88</td>\n",
       "      <td>306.88</td>\n",
       "      <td>303.980</td>\n",
       "      <td>303.980</td>\n",
       "      <td>303.980</td>\n",
       "      <td>305.38</td>\n",
       "    </tr>\n",
       "    <tr>\n",
       "      <th>3</th>\n",
       "      <td>308.26</td>\n",
       "      <td>308.26</td>\n",
       "      <td>306.78</td>\n",
       "      <td>308.26</td>\n",
       "      <td>308.26</td>\n",
       "      <td>308.26</td>\n",
       "      <td>308.26</td>\n",
       "      <td>306.78</td>\n",
       "      <td>306.78</td>\n",
       "      <td>308.26</td>\n",
       "      <td>...</td>\n",
       "      <td>304.98</td>\n",
       "      <td>304.98</td>\n",
       "      <td>304.98</td>\n",
       "      <td>304.98</td>\n",
       "      <td>304.98</td>\n",
       "      <td>304.98</td>\n",
       "      <td>303.600</td>\n",
       "      <td>303.600</td>\n",
       "      <td>303.600</td>\n",
       "      <td>307.60</td>\n",
       "    </tr>\n",
       "    <tr>\n",
       "      <th>4</th>\n",
       "      <td>308.22</td>\n",
       "      <td>308.22</td>\n",
       "      <td>306.42</td>\n",
       "      <td>308.22</td>\n",
       "      <td>308.22</td>\n",
       "      <td>308.22</td>\n",
       "      <td>308.22</td>\n",
       "      <td>306.42</td>\n",
       "      <td>306.42</td>\n",
       "      <td>308.22</td>\n",
       "      <td>...</td>\n",
       "      <td>308.76</td>\n",
       "      <td>308.76</td>\n",
       "      <td>308.76</td>\n",
       "      <td>308.76</td>\n",
       "      <td>308.76</td>\n",
       "      <td>308.76</td>\n",
       "      <td>303.908</td>\n",
       "      <td>303.908</td>\n",
       "      <td>303.908</td>\n",
       "      <td>305.00</td>\n",
       "    </tr>\n",
       "  </tbody>\n",
       "</table>\n",
       "<p>5 rows × 147695 columns</p>\n",
       "</div>"
      ],
      "text/plain": [
       "   [110.65896827426326, -3.0318140839033854]  \\\n",
       "0                                     307.06   \n",
       "1                                     308.28   \n",
       "2                                     307.98   \n",
       "3                                     308.26   \n",
       "4                                     308.22   \n",
       "\n",
       "   [110.66795142710446, -3.0318140839033854]  \\\n",
       "0                                     307.06   \n",
       "1                                     308.28   \n",
       "2                                     307.98   \n",
       "3                                     308.26   \n",
       "4                                     308.22   \n",
       "\n",
       "   [110.64998512142206, -3.02283093106219]  \\\n",
       "0                                   304.88   \n",
       "1                                   306.64   \n",
       "2                                   306.94   \n",
       "3                                   306.78   \n",
       "4                                   306.42   \n",
       "\n",
       "   [110.65896827426326, -3.02283093106219]  \\\n",
       "0                                   307.06   \n",
       "1                                   308.28   \n",
       "2                                   307.98   \n",
       "3                                   308.26   \n",
       "4                                   308.22   \n",
       "\n",
       "   [110.66795142710446, -3.02283093106219]  \\\n",
       "0                                   307.06   \n",
       "1                                   308.28   \n",
       "2                                   307.98   \n",
       "3                                   308.26   \n",
       "4                                   308.22   \n",
       "\n",
       "   [110.67693457994565, -3.02283093106219]  \\\n",
       "0                                   307.06   \n",
       "1                                   308.28   \n",
       "2                                   307.98   \n",
       "3                                   308.26   \n",
       "4                                   308.22   \n",
       "\n",
       "   [110.68591773278685, -3.02283093106219]  \\\n",
       "0                                   307.06   \n",
       "1                                   308.28   \n",
       "2                                   307.98   \n",
       "3                                   308.26   \n",
       "4                                   308.22   \n",
       "\n",
       "   [110.64100196858087, -3.013847778220995]  \\\n",
       "0                                    304.88   \n",
       "1                                    306.64   \n",
       "2                                    306.94   \n",
       "3                                    306.78   \n",
       "4                                    306.42   \n",
       "\n",
       "   [110.64998512142206, -3.013847778220995]  \\\n",
       "0                                    304.88   \n",
       "1                                    306.64   \n",
       "2                                    306.94   \n",
       "3                                    306.78   \n",
       "4                                    306.42   \n",
       "\n",
       "   [110.65896827426326, -3.013847778220995]  ...  \\\n",
       "0                                    307.06  ...   \n",
       "1                                    308.28  ...   \n",
       "2                                    307.98  ...   \n",
       "3                                    308.26  ...   \n",
       "4                                    308.22  ...   \n",
       "\n",
       "   [109.62590569752581, 2.016717812848326]  \\\n",
       "0                                   303.44   \n",
       "1                                   297.28   \n",
       "2                                   306.88   \n",
       "3                                   304.98   \n",
       "4                                   308.76   \n",
       "\n",
       "   [109.61692254468461, 2.025700965689521]  \\\n",
       "0                                   303.44   \n",
       "1                                   297.28   \n",
       "2                                   306.88   \n",
       "3                                   304.98   \n",
       "4                                   308.76   \n",
       "\n",
       "   [109.62590569752581, 2.025700965689521]  \\\n",
       "0                                   303.44   \n",
       "1                                   297.28   \n",
       "2                                   306.88   \n",
       "3                                   304.98   \n",
       "4                                   308.76   \n",
       "\n",
       "   [109.61692254468461, 2.0346841185307163]  \\\n",
       "0                                    303.44   \n",
       "1                                    297.28   \n",
       "2                                    306.88   \n",
       "3                                    304.98   \n",
       "4                                    308.76   \n",
       "\n",
       "   [109.62590569752581, 2.0346841185307163]  \\\n",
       "0                                    303.44   \n",
       "1                                    297.28   \n",
       "2                                    306.88   \n",
       "3                                    304.98   \n",
       "4                                    308.76   \n",
       "\n",
       "   [109.62590569752581, 2.0436672713719113]  \\\n",
       "0                                    303.44   \n",
       "1                                    297.28   \n",
       "2                                    306.88   \n",
       "3                                    304.98   \n",
       "4                                    308.76   \n",
       "\n",
       "   [109.62590569752581, 2.0526504242131067]  \\\n",
       "0                                   303.980   \n",
       "1                                   303.980   \n",
       "2                                   303.980   \n",
       "3                                   303.600   \n",
       "4                                   303.908   \n",
       "\n",
       "   [109.634888850367, 2.0526504242131067]  \\\n",
       "0                                 303.980   \n",
       "1                                 303.980   \n",
       "2                                 303.980   \n",
       "3                                 303.600   \n",
       "4                                 303.908   \n",
       "\n",
       "   [109.634888850367, 2.0616335770543017]  \\\n",
       "0                                 303.980   \n",
       "1                                 303.980   \n",
       "2                                 303.980   \n",
       "3                                 303.600   \n",
       "4                                 303.908   \n",
       "\n",
       "   [109.1048828327365, 2.070616729895497]  \n",
       "0                                  302.48  \n",
       "1                                  302.96  \n",
       "2                                  305.38  \n",
       "3                                  307.60  \n",
       "4                                  305.00  \n",
       "\n",
       "[5 rows x 147695 columns]"
      ]
     },
     "execution_count": 4,
     "metadata": {},
     "output_type": "execute_result"
    }
   ],
   "source": [
    "df.head()"
   ]
  },
  {
   "cell_type": "markdown",
   "id": "c6e7afe2146df70c",
   "metadata": {},
   "source": [
    "# Data Splitting"
   ]
  },
  {
   "cell_type": "code",
   "execution_count": 5,
   "id": "78adb0ff7d22cd94",
   "metadata": {
    "ExecuteTime": {
     "end_time": "2024-05-31T12:20:56.261044Z",
     "start_time": "2024-05-31T12:20:56.246074Z"
    },
    "collapsed": false,
    "jupyter": {
     "outputs_hidden": false
    }
   },
   "outputs": [],
   "source": [
    "# Set the split ratio\n",
    "split_ratio = 0.9\n",
    "split_point = int(len(df) * split_ratio)\n",
    "\n",
    "# Split the data\n",
    "train_df = df.iloc[:split_point]\n",
    "validation_df = df.iloc[split_point:]"
   ]
  },
  {
   "cell_type": "code",
   "execution_count": 6,
   "id": "c840ca980c9b414b",
   "metadata": {
    "ExecuteTime": {
     "end_time": "2024-05-31T12:20:56.276500Z",
     "start_time": "2024-05-31T12:20:56.265233Z"
    },
    "collapsed": false,
    "jupyter": {
     "outputs_hidden": false
    }
   },
   "outputs": [],
   "source": [
    "# Sliding Window\n",
    "def create_window(dataframe, window_size, slide_size):\n",
    "    input_window_list = []\n",
    "    label_window_list = []\n",
    "    # Iterate over the columns\n",
    "    for col in tqdm(dataframe.columns):\n",
    "        # Iterate over the rows in the current column with a sliding window\n",
    "        for row in range(0, len(dataframe[col]) - (window_size + slide_size) + 1):\n",
    "            window_range = row + window_size\n",
    "            \n",
    "            input_window = dataframe[col].iloc[row:window_range]\n",
    "            input_window_list.append(input_window)\n",
    "            \n",
    "            label_window = dataframe[col].iloc[window_range:window_range + slide_size]\n",
    "            label_window_list.append(label_window)\n",
    "    return input_window_list, label_window_list"
   ]
  },
  {
   "cell_type": "code",
   "execution_count": 7,
   "id": "90176d1d0e5a6184",
   "metadata": {
    "ExecuteTime": {
     "end_time": "2024-05-31T12:37:29.851294Z",
     "start_time": "2024-05-31T12:20:56.277665Z"
    },
    "collapsed": false,
    "jupyter": {
     "outputs_hidden": false
    }
   },
   "outputs": [
    {
     "name": "stderr",
     "output_type": "stream",
     "text": [
      "100%|█████████████████████████████████████████████████████████████████████████| 147695/147695 [17:34<00:00, 140.09it/s]\n",
      "100%|████████████████████████████████████████████████████████████████████████| 147695/147695 [00:17<00:00, 8280.43it/s]\n"
     ]
    }
   ],
   "source": [
    "window_size = 3\n",
    "slide_size = 1\n",
    "\n",
    "train_input_window, train_label_window = create_window(train_df, window_size, slide_size)\n",
    "validation_input_window, validation_label_window = create_window(validation_df, window_size, slide_size)"
   ]
  },
  {
   "cell_type": "markdown",
   "id": "5b7252a65496d3ac",
   "metadata": {
    "collapsed": false,
    "jupyter": {
     "outputs_hidden": false
    }
   },
   "source": [
    "# Save Train and Validation Data"
   ]
  },
  {
   "cell_type": "code",
   "execution_count": 8,
   "id": "75de2a25cf6a78af",
   "metadata": {
    "ExecuteTime": {
     "end_time": "2024-05-31T12:37:29.948240Z",
     "start_time": "2024-05-31T12:37:29.896124Z"
    },
    "collapsed": false,
    "jupyter": {
     "outputs_hidden": false
    }
   },
   "outputs": [],
   "source": [
    "# with open('data/train_input_window.pkl', 'wb') as f:\n",
    "#     pickle.dump(train_input_window, f)\n",
    "#     \n",
    "# with open('data/train_label_window.pkl', 'wb') as f:\n",
    "#     pickle.dump(train_label_window, f)\n",
    "#     \n",
    "# with open('data/validation_input_window.pkl', 'wb') as f:\n",
    "#     pickle.dump(validation_input_window, f)\n",
    "#     \n",
    "# with open('data/validation_label_window.pkl', 'wb') as f:\n",
    "#     pickle.dump(validation_label_window, f)"
   ]
  },
  {
   "cell_type": "code",
   "execution_count": 9,
   "id": "a93bf3cf93841f0f",
   "metadata": {
    "ExecuteTime": {
     "end_time": "2024-05-31T12:37:29.969214Z",
     "start_time": "2024-05-31T12:37:29.950644Z"
    },
    "collapsed": false,
    "jupyter": {
     "outputs_hidden": false
    }
   },
   "outputs": [],
   "source": [
    "# x_train, y_train = create_window(train_df, window_size, slide_size)\n",
    "# x_val, y_val = create_window(validation_df, window_size, slide_size)"
   ]
  },
  {
   "cell_type": "markdown",
   "id": "eadeef725316f56f",
   "metadata": {},
   "source": [
    "# Convert to Numpy Array and Reshape"
   ]
  },
  {
   "cell_type": "code",
   "execution_count": 10,
   "id": "7c827786e4b9fbfd",
   "metadata": {
    "ExecuteTime": {
     "end_time": "2024-05-31T12:52:38.319907Z",
     "start_time": "2024-05-31T12:37:29.970493Z"
    },
    "collapsed": false,
    "jupyter": {
     "outputs_hidden": false
    }
   },
   "outputs": [],
   "source": [
    "x_train = np.array(train_input_window)\n",
    "y_train = np.array(train_label_window)\n",
    "x_val = np.array(validation_input_window)\n",
    "y_val = np.array(validation_label_window)"
   ]
  },
  {
   "cell_type": "code",
   "execution_count": 11,
   "id": "b7ece410ba90727c",
   "metadata": {
    "ExecuteTime": {
     "end_time": "2024-05-31T12:52:38.409644Z",
     "start_time": "2024-05-31T12:52:38.358989Z"
    },
    "collapsed": false,
    "jupyter": {
     "outputs_hidden": false
    }
   },
   "outputs": [],
   "source": [
    "x_train = x_train.reshape(x_train.shape[0], x_train.shape[1], 1)\n",
    "x_val = x_val.reshape(x_val.shape[0], x_val.shape[1], 1)"
   ]
  },
  {
   "cell_type": "code",
   "execution_count": 12,
   "id": "3f247d0fb2f05b73",
   "metadata": {
    "ExecuteTime": {
     "end_time": "2024-05-31T12:52:38.440085Z",
     "start_time": "2024-05-31T12:52:38.413229Z"
    }
   },
   "outputs": [
    {
     "data": {
      "text/plain": [
       "(3, 1)"
      ]
     },
     "execution_count": 12,
     "metadata": {},
     "output_type": "execute_result"
    }
   ],
   "source": [
    "x_train.shape[1:]"
   ]
  },
  {
   "cell_type": "code",
   "execution_count": 13,
   "id": "64e0a4b0cbf24758",
   "metadata": {
    "ExecuteTime": {
     "end_time": "2024-05-31T12:52:42.395917Z",
     "start_time": "2024-05-31T12:52:38.443488Z"
    },
    "collapsed": false,
    "jupyter": {
     "outputs_hidden": false
    }
   },
   "outputs": [
    {
     "name": "stdout",
     "output_type": "stream",
     "text": [
      "Model: \"sequential\"\n",
      "_________________________________________________________________\n",
      " Layer (type)                Output Shape              Param #   \n",
      "=================================================================\n",
      " lstm (LSTM)                 (None, 3, 4)              96        \n",
      "                                                                 \n",
      " lstm_1 (LSTM)               (None, 4)                 144       \n",
      "                                                                 \n",
      " dense (Dense)               (None, 16)                80        \n",
      "                                                                 \n",
      " dense_1 (Dense)             (None, 1)                 17        \n",
      "                                                                 \n",
      "=================================================================\n",
      "Total params: 337\n",
      "Trainable params: 337\n",
      "Non-trainable params: 0\n",
      "_________________________________________________________________\n"
     ]
    }
   ],
   "source": [
    "model = tf.keras.models.Sequential([\n",
    "    tf.keras.layers.LSTM(4, input_shape=(x_train.shape[1:]), return_sequences=True),\n",
    "    tf.keras.layers.LSTM(4, return_sequences=False),\n",
    "    tf.keras.layers.Dense(16, activation='relu'),\n",
    "    tf.keras.layers.Dense(1, activation='relu')\n",
    "])\n",
    "\n",
    "model.compile(optimizer='adam', loss='mae', metrics=[tf.keras.metrics.RootMeanSquaredError()])\n",
    "model.summary()"
   ]
  },
  {
   "cell_type": "code",
   "execution_count": null,
   "id": "5495f410abe87d52",
   "metadata": {
    "ExecuteTime": {
     "end_time": "2024-05-31T15:30:45.735999Z",
     "start_time": "2024-05-31T12:52:42.398919Z"
    },
    "collapsed": false,
    "jupyter": {
     "outputs_hidden": false
    }
   },
   "outputs": [
    {
     "name": "stdout",
     "output_type": "stream",
     "text": [
      "Epoch 1/10\n",
      "184619/184619 [==============================] - 1605s 9ms/step - loss: 3.9370 - root_mean_squared_error: 22.5364 - val_loss: 2.0544 - val_root_mean_squared_error: 2.6189\n",
      "Epoch 2/10\n",
      "184619/184619 [==============================] - 1579s 9ms/step - loss: 1.8431 - root_mean_squared_error: 2.4013 - val_loss: 2.0419 - val_root_mean_squared_error: 2.5938\n",
      "Epoch 3/10\n",
      "184619/184619 [==============================] - 1591s 9ms/step - loss: 1.8429 - root_mean_squared_error: 2.4010 - val_loss: 2.0409 - val_root_mean_squared_error: 2.5879\n",
      "Epoch 4/10\n",
      "184619/184619 [==============================] - 1601s 9ms/step - loss: 1.8430 - root_mean_squared_error: 2.4011 - val_loss: 2.0437 - val_root_mean_squared_error: 2.5985\n",
      "Epoch 5/10\n",
      "184619/184619 [==============================] - 1584s 9ms/step - loss: 1.8430 - root_mean_squared_error: 2.4011 - val_loss: 2.0768 - val_root_mean_squared_error: 2.6553\n",
      "Epoch 6/10\n",
      "184619/184619 [==============================] - 1569s 9ms/step - loss: 1.8430 - root_mean_squared_error: 2.4010 - val_loss: 2.0554 - val_root_mean_squared_error: 2.6207\n",
      "Epoch 7/10\n",
      "184619/184619 [==============================] - 1575s 9ms/step - loss: 1.8431 - root_mean_squared_error: 2.4010 - val_loss: 2.0445 - val_root_mean_squared_error: 2.6002\n",
      "Epoch 8/10\n",
      "184619/184619 [==============================] - 1571s 9ms/step - loss: 1.8431 - root_mean_squared_error: 2.4013 - val_loss: 2.0780 - val_root_mean_squared_error: 2.6571\n",
      "Epoch 9/10\n",
      "184619/184619 [==============================] - 1570s 9ms/step - loss: 1.8431 - root_mean_squared_error: 2.4011 - val_loss: 2.0577 - val_root_mean_squared_error: 2.6246\n",
      "Epoch 10/10\n",
      " 95681/184619 [==============>...............] - ETA: 12:25 - loss: 1.8431 - root_mean_squared_error: 2.4017"
     ]
    }
   ],
   "source": [
    "history = model.fit(x_train, y_train, epochs=10, validation_data=(x_val, y_val))"
   ]
  },
  {
   "cell_type": "code",
   "execution_count": null,
   "id": "ac9cd4a2f457985a",
   "metadata": {
    "ExecuteTime": {
     "end_time": "2024-05-31T15:30:46.893891Z",
     "start_time": "2024-05-31T15:30:45.737572Z"
    }
   },
   "outputs": [],
   "source": [
    "# TODO: plot loss and metrics\n",
    "\n",
    "import matplotlib.pyplot as plt\n",
    "\n",
    "# Plot training & validation loss values\n",
    "plt.figure(figsize=(12, 6))\n",
    "plt.plot(history.history['loss'])\n",
    "plt.plot(history.history['val_loss'])\n",
    "plt.title('Model loss')\n",
    "plt.ylabel('Loss')\n",
    "plt.xlabel('Epoch')\n",
    "plt.legend(['Train', 'Validation'], loc='upper right')\n",
    "plt.show()\n",
    "\n",
    "# Plot training & validation RMSE values\n",
    "plt.figure(figsize=(12, 6))\n",
    "plt.plot(history.history['root_mean_squared_error'])\n",
    "plt.plot(history.history['val_root_mean_squared_error'])\n",
    "plt.title('Model Root Mean Squared Error')\n",
    "plt.ylabel('RMSE')\n",
    "plt.xlabel('Epoch')\n",
    "plt.legend(['Train', 'Validation'], loc='upper right')\n",
    "plt.show()"
   ]
  },
  {
   "cell_type": "code",
   "execution_count": null,
   "id": "e6fec296f0d1c93e",
   "metadata": {
    "ExecuteTime": {
     "end_time": "2024-05-31T15:30:46.992984Z",
     "start_time": "2024-05-31T15:30:46.893891Z"
    },
    "collapsed": false,
    "jupyter": {
     "outputs_hidden": false
    }
   },
   "outputs": [],
   "source": [
    "# save model\n",
    "model.save('models/model_2_3.keras')"
   ]
  },
  {
   "cell_type": "code",
   "execution_count": null,
   "id": "4ce46423ffdf9e1c",
   "metadata": {
    "ExecuteTime": {
     "end_time": "2024-05-31T15:30:47.008617Z",
     "start_time": "2024-05-31T15:30:46.992984Z"
    },
    "collapsed": false,
    "jupyter": {
     "outputs_hidden": false
    }
   },
   "outputs": [],
   "source": [
    "# TODO: try with different model configuration"
   ]
  }
 ],
 "metadata": {
  "kernelspec": {
   "display_name": "Python 3 (ipykernel)",
   "language": "python",
   "name": "python3"
  },
  "language_info": {
   "codemirror_mode": {
    "name": "ipython",
    "version": 3
   },
   "file_extension": ".py",
   "mimetype": "text/x-python",
   "name": "python",
   "nbconvert_exporter": "python",
   "pygments_lexer": "ipython3",
   "version": "3.10.11"
  }
 },
 "nbformat": 4,
 "nbformat_minor": 5
}
